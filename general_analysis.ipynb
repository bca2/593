{
  "nbformat": 4,
  "nbformat_minor": 0,
  "metadata": {
    "colab": {
      "name": "general_analysis.ipynb",
      "version": "0.3.2",
      "provenance": [],
      "collapsed_sections": [],
      "include_colab_link": true
    },
    "kernelspec": {
      "name": "python3",
      "display_name": "Python 3"
    },
    "accelerator": "GPU"
  },
  "cells": [
    {
      "cell_type": "markdown",
      "metadata": {
        "id": "view-in-github",
        "colab_type": "text"
      },
      "source": [
        "<a href=\"https://colab.research.google.com/github/bca2/593/blob/master/general_analysis.ipynb\" target=\"_parent\"><img src=\"https://colab.research.google.com/assets/colab-badge.svg\" alt=\"Open In Colab\"/></a>"
      ]
    },
    {
      "cell_type": "markdown",
      "metadata": {
        "id": "_cfiHVHQFtML",
        "colab_type": "text"
      },
      "source": [
        "# General linear/non-linear analysis\n",
        "\n",
        "The point of this document will be to provide the statistical tools necessary to perform a linear or non-linear analysis of data.\n",
        "This code should work for most (all?) high-school experiments where there's a single, continuous independent variable (x) and a single, continuous dependent variable (y).\n",
        "Custom analyses for specific experiements can also be done, and we'll be working on this for all lab projects supplied by the UIUC Crop Sciences department.\n",
        "\n",
        "\n",
        "The data must be uploaded with a specific name, and the data columns must also be named 'x' and 'y' (or there needs to be an option to specify these names)\n",
        "\n",
        "Excel/Sheets should also be able to perform the linear and curvilinear analyses properly.\n",
        "The advantage you get in using this document is access to correct non-linear analyses (Excel does not do these properly).\n",
        "\n",
        "Additionally, advanced students will have access to the code and should be able to customize their graphs and analyses if they like.\n",
        "The code is hidden by default, but can be revealed and edited.\n",
        "\n",
        "Supported analyses (currently) are:\n",
        "\n",
        "1. Simple linear regression\n",
        "2. Curvilinear (polynomial) regression\n",
        "3. Exponential models\n",
        "4. Logistic models\n",
        "\n",
        "... additional model can be added as needed based on instructor requests.\n",
        "\n",
        "Comments are welcome and encouraged.\n",
        "\n",
        "Comments within the code (by me) to explain the code will be added if the instructors believe that this is a useful document."
      ]
    },
    {
      "cell_type": "code",
      "metadata": {
        "id": "1QXglNnG-WrR",
        "colab_type": "code",
        "cellView": "form",
        "colab": {}
      },
      "source": [
        "#@title Enable R (you must do this)\n",
        "\n",
        "# The following code lets us speak in the R language while working from within Python\n",
        "\n",
        "%load_ext rpy2.ipython\n",
        "\n",
        "# Using R inside python in this way tends to produce warnings\n",
        "# The warnings don't seem to have an effect on the desired output, so I'm just going to suppress the warnings.\n",
        "# You can go ahead and run the code with and without warnings by excluding/including the following code:\n",
        "\n",
        "import warnings\n",
        "from rpy2.rinterface import RRuntimeWarning\n",
        "warnings.filterwarnings(\"ignore\", category=RRuntimeWarning)\n",
        "\n",
        "# To comment out code, just use the pound sign (hashtag) \"#\"\n",
        "# Code that's been commented out will not be run, just like this comment I'm writing right now.\n",
        "# Comments help us in two major ways:\n",
        "#   1. You can easily leave instructions or clarifications in your code for other people or for future you.\n",
        "#   2. You can see how your code runs without certain lines of code without actually deleting your code.\n",
        "#       My advice: Try not to delete your code. You may change your mind later, and it's good to have it readily available.\n"
      ],
      "execution_count": 0,
      "outputs": []
    },
    {
      "cell_type": "markdown",
      "metadata": {
        "id": "c7vYdIFL7NxP",
        "colab_type": "text"
      },
      "source": [
        "# Simple linear regression\n",
        "\n",
        "1. Upload a \".csv\" file named \"**linear.csv**\".\n",
        "Make sure that the data are stored in two columns: column \"A\" should be the independent variable (IV) named \"x\".\n",
        "Column \"B\" should be the dependent variable (DV) \"y\".\n",
        "\n",
        "2. Check a scatterplot to confirm that a linear regression is sensible.\n",
        "\n",
        "3. If a linear regression makes sense, follow through with the rest of the analysis.\n",
        "\n",
        "4. Plot the residuals (if you like), and plot the fitted model against the observed values.\n",
        "\n",
        "5. If the model fit looks reasonable, get a summary of the model to get the parameter estimates.\n",
        "\n",
        "6. Interpret the parameter estimates. What does the intercept mean? Is the intercept important in the context of the experiment (usually it isn't, but it can be).\n",
        "What's your interpretation of the slope? \n",
        "\n",
        "The simple linear model we'll be fitting is:\n",
        "\n",
        "$$y = \\beta_0 + \\beta_1 \\cdot x + \\epsilon$$\n",
        "\n",
        "where $\\beta_0$ is the intercept, $\\beta_1$ is the slope, and $\\epsilon$ is the error associated with measuring $y$ and is assumed to be a normal with constant variance $\\epsilon \\sim N(0,\\sigma^2)$.\n",
        "\n",
        "The fitted (or predicted) model is:\n",
        "\n",
        "$$\\hat{y} = \\hat{\\beta_0} +\\hat{\\beta_1}\\cdot x$$\n",
        "\n",
        "where $\\hat{y}$ is our best prediction of $y$ based on the parameter estimates $\\hat{\\beta_0}$ and $\\hat{\\beta_1}$."
      ]
    },
    {
      "cell_type": "code",
      "metadata": {
        "id": "IBzCOVpwC4Sa",
        "colab_type": "code",
        "cellView": "form",
        "colab": {}
      },
      "source": [
        "#@title Import the data as a file named \"linear.csv\" in the correct format (see above)\n",
        "from google.colab import files\n",
        "\n",
        "uploaded = files.upload()\n",
        "\n",
        "for fn in uploaded.keys():\n",
        "  print('User uploaded file \"{name}\" with length {length} bytes'.format(\n",
        "      name=fn, length=len(uploaded[fn])))"
      ],
      "execution_count": 0,
      "outputs": []
    },
    {
      "cell_type": "code",
      "metadata": {
        "id": "pjAaem62-VAT",
        "colab_type": "code",
        "cellView": "form",
        "colab": {}
      },
      "source": [
        "#@title Make the scatterplot\n",
        "\n",
        "%%R\n",
        "library(ggplot2)\n",
        "\n",
        "linear = read.csv(\"linear.csv\")\n",
        "\n",
        "plot = ggplot(linear, aes(x = x, y = y))\n",
        "plot = plot + geom_point()\n",
        "plot"
      ],
      "execution_count": 0,
      "outputs": []
    },
    {
      "cell_type": "code",
      "metadata": {
        "id": "b4ZPTMAR_4il",
        "colab_type": "code",
        "cellView": "form",
        "colab": {}
      },
      "source": [
        "#@title Fit a linear model to the data (no output is produced here)\n",
        "%%R\n",
        "\n",
        "fit_linear = lm(y ~ x, data = linear)"
      ],
      "execution_count": 0,
      "outputs": []
    },
    {
      "cell_type": "code",
      "metadata": {
        "id": "gtENgP8eAGxL",
        "colab_type": "code",
        "cellView": "form",
        "colab": {}
      },
      "source": [
        "#@title Check to make sure the residuals look random and have equal variance (shotgun blast, no pattern)\n",
        "%%R\n",
        "\n",
        "library(ggplot2)\n",
        "library(dplyr)\n",
        "library(tidyr)\n",
        "\n",
        "linear_res = linear%>%\n",
        "    mutate(res = residuals(fit_linear))%>%\n",
        "    mutate(std_res = res/summary(fit_linear)$sigma )\n",
        "    \n",
        "res_plot = ggplot(linear_res, aes(x = predict(fit_linear), y = std_res))\n",
        "res_plot = res_plot + geom_point()\n",
        "res_plot"
      ],
      "execution_count": 0,
      "outputs": []
    },
    {
      "cell_type": "code",
      "metadata": {
        "id": "1NcmVWSJALD5",
        "colab_type": "code",
        "cellView": "form",
        "colab": {}
      },
      "source": [
        "#@title Check the residuals for normality (the points should generally fall on the line)\n",
        "%%R\n",
        "\n",
        "qqnorm(residuals(fit_linear))\n",
        "qqline(residuals(fit_linear))"
      ],
      "execution_count": 0,
      "outputs": []
    },
    {
      "cell_type": "code",
      "metadata": {
        "id": "OmYlRMAJAZH5",
        "colab_type": "code",
        "cellView": "form",
        "colab": {}
      },
      "source": [
        "#@title Check our model fit against the observed values (model fit is the green line)\n",
        "%%R\n",
        "\n",
        "plot(linear$x,linear$y)\n",
        "lines(predict(fit_linear), col=\"green\")"
      ],
      "execution_count": 0,
      "outputs": []
    },
    {
      "cell_type": "code",
      "metadata": {
        "id": "eudBrG3CAmcN",
        "colab_type": "code",
        "cellView": "form",
        "colab": {}
      },
      "source": [
        "#@title Getting our parameter estimates\n",
        "%%R\n",
        "\n",
        "coef(summary(fit_linear))[,1]\n",
        "\n"
      ],
      "execution_count": 0,
      "outputs": []
    },
    {
      "cell_type": "markdown",
      "metadata": {
        "id": "EvHS9zxwFxuw",
        "colab_type": "text"
      },
      "source": [
        "## Interpretation\n",
        "\n",
        "Our estimate of the intercept ($\\hat{\\beta_0}$) and the slope ($\\hat{\\beta_1}$, under $x$) are listed in the output above.\n",
        "Can you figure out what these numbers actually mean?"
      ]
    },
    {
      "cell_type": "markdown",
      "metadata": {
        "id": "NZHlNeHqHjkQ",
        "colab_type": "text"
      },
      "source": [
        "# Curvilinear model (polynomial model)\n",
        "\n",
        "1. Upload a \".csv\" file named \"**poly.csv**\".\n",
        "Make sure that the data are stored in two columns: column \"A\" should be the independent variable (IV) named \"x\".\n",
        "Column \"B\" should be the dependent variable (DV) \"y\".\n",
        "\n",
        "2. Check a scatterplot to confirm that a curvilinear regression is sensible.\n",
        "\n",
        "3. If a curvilinear regression makes sense, follow through with the rest of the analysis.\n",
        "**Important: for a polynomial model you must select the degree of the polynomial equation.**\n",
        "A simple linear model has $degree = 1$, a quadratic model has $degree = 2$, and a cubic model has $degree = 3$.\n",
        "\n",
        "4. Plot the residuals (if you like), and plot the fitted model against the observed values.\n",
        "\n",
        "5. If the model fit looks reasonable, get a summary of the model to get the parameter estimates.\n",
        "\n",
        "6. Interpret the parameter estimates. What does the intercept mean? Is the intercept important in the context of the experiment (usually it isn't, but it can be).\n",
        "What's your interpretation of the other parameters? \n",
        "\n",
        "The general linear model we'll be fitting is:\n",
        "\n",
        "$$y = \\beta_0 + \\beta_1 \\cdot x + \\beta_2 \\cdot x^2...+\\beta_n \\cdot x^n+ \\epsilon$$\n",
        "\n",
        "where $\\beta_0$ is the intercept, the other $\\beta_i$ are the coefficients associated with the $x^i$and $\\epsilon$ is the error associated with measuring $y$ and is assumed to be a normal with constant variance $\\epsilon \\sim N(0,\\sigma^2)$.\n",
        "\n",
        "The fitted (or predicted) model is:\n",
        "\n",
        "$$\\hat{y} = \\hat{\\beta_0} +\\hat{\\beta_1}\\cdot x + \\hat{\\beta_2} \\cdot x^2...+\\hat{\\beta}_n \\cdot x^n$$\n",
        "\n",
        "where $\\hat{y}$ is our best prediction of $y$ based on the parameter estimates $\\hat{\\beta_0}$ and $\\hat{\\beta_1}$."
      ]
    },
    {
      "cell_type": "code",
      "metadata": {
        "colab_type": "code",
        "cellView": "form",
        "id": "R-lSkERkTWDc",
        "colab": {}
      },
      "source": [
        "#@title Import the data as a file named \"poly.csv\" in the correct format (see above)\n",
        "from google.colab import files\n",
        "\n",
        "uploaded = files.upload()\n",
        "\n",
        "for fn in uploaded.keys():\n",
        "  print('User uploaded file \"{name}\" with length {length} bytes'.format(\n",
        "      name=fn, length=len(uploaded[fn])))"
      ],
      "execution_count": 0,
      "outputs": []
    },
    {
      "cell_type": "code",
      "metadata": {
        "colab_type": "code",
        "cellView": "form",
        "id": "nDartDlcTWDi",
        "colab": {}
      },
      "source": [
        "#@title Make the scatterplot\n",
        "\n",
        "%%R\n",
        "library(ggplot2)\n",
        "\n",
        "poly = read.csv(\"poly.csv\")\n",
        "\n",
        "plot = ggplot(poly, aes(x = x, y = y))\n",
        "plot = plot + geom_point()\n",
        "plot"
      ],
      "execution_count": 0,
      "outputs": []
    },
    {
      "cell_type": "code",
      "metadata": {
        "id": "x4AhvvdbTfT0",
        "colab_type": "code",
        "cellView": "form",
        "colab": {}
      },
      "source": [
        "#@title Choose the degree of the model (choose the value and then run this cell)\n",
        "Degree = 2 #@param {type:\"integer\"}\n"
      ],
      "execution_count": 0,
      "outputs": []
    },
    {
      "cell_type": "code",
      "metadata": {
        "colab_type": "code",
        "cellView": "form",
        "id": "gZvShvYMTWDm",
        "colab": {}
      },
      "source": [
        "#@title Fit a curvilinear model to the data (no output is produced here)\n",
        "%%R -i Degree\n",
        "\n",
        "fit_poly = lm(y ~ poly(x,Degree, raw=T), data = poly)"
      ],
      "execution_count": 0,
      "outputs": []
    },
    {
      "cell_type": "code",
      "metadata": {
        "colab_type": "code",
        "cellView": "form",
        "id": "i3B0zEuQTWDp",
        "colab": {}
      },
      "source": [
        "#@title Check to make sure the residuals look random and have equal variance (shotgun blast, no pattern)\n",
        "%%R\n",
        "\n",
        "library(ggplot2)\n",
        "library(dplyr)\n",
        "library(tidyr)\n",
        "\n",
        "poly_res = poly%>%\n",
        "    mutate(res = residuals(fit_poly))%>%\n",
        "    mutate(std_res = res/summary(fit_poly)$sigma )\n",
        "    \n",
        "res_plot = ggplot(poly_res, aes(x = predict(fit_poly), y = std_res))\n",
        "res_plot = res_plot + geom_point()\n",
        "res_plot"
      ],
      "execution_count": 0,
      "outputs": []
    },
    {
      "cell_type": "code",
      "metadata": {
        "colab_type": "code",
        "cellView": "form",
        "id": "RyYfExDzTWDs",
        "colab": {}
      },
      "source": [
        "#@title Check the residuals for normality (the points should generally fall on the line)\n",
        "%%R\n",
        "\n",
        "qqnorm(residuals(fit_poly))\n",
        "qqline(residuals(fit_poly))"
      ],
      "execution_count": 0,
      "outputs": []
    },
    {
      "cell_type": "code",
      "metadata": {
        "colab_type": "code",
        "cellView": "form",
        "id": "8P3w0X3rTWDu",
        "colab": {}
      },
      "source": [
        "#@title Check our model fit against the observed values (model fit is the green line)\n",
        "%%R\n",
        "\n",
        "plot(poly$x,poly$y)\n",
        "lines(predict(fit_poly), col=\"green\")"
      ],
      "execution_count": 0,
      "outputs": []
    },
    {
      "cell_type": "code",
      "metadata": {
        "colab_type": "code",
        "cellView": "form",
        "id": "JlF2WfDfTWDw",
        "colab": {}
      },
      "source": [
        "#@title Getting our parameter estimates\n",
        "%%R\n",
        "\n",
        "coef(summary(fit_poly))[,1]\n",
        "\n"
      ],
      "execution_count": 0,
      "outputs": []
    },
    {
      "cell_type": "markdown",
      "metadata": {
        "colab_type": "text",
        "id": "MC9Q6pIxTWDy"
      },
      "source": [
        "## Interpretation\n",
        "\n",
        "Our estimate of the intercept ($\\hat{\\beta_0}$) and the ($\\hat{\\beta_i}$) are listed in the output above.\n",
        "Can you figure out what these numbers actually mean?\n",
        "\n",
        "**Note: The output may look confusing. The parameters estimates are always given in ascending order though.**\n",
        "The intercept is $\\beta_0$, and each of the $\\beta_i$ are `poly(...)i`."
      ]
    },
    {
      "cell_type": "markdown",
      "metadata": {
        "id": "VSuAT5reHsqH",
        "colab_type": "text"
      },
      "source": [
        "# Non-linear models\n",
        "\n",
        "Data are often not linear.\n",
        "We'll need to use slightly more complicated methods to properly fit these models.\n",
        "\n",
        "Note to instructors: I can add more models as needed, this is just a start."
      ]
    },
    {
      "cell_type": "markdown",
      "metadata": {
        "id": "VppIOUwBHuxu",
        "colab_type": "text"
      },
      "source": [
        "## Exponential model\n",
        "\n",
        "1. Upload a \".csv\" file named \"**exp.csv**\".\n",
        "Make sure that the data are stored in two columns: column \"A\" should be the independent variable (IV) named \"x\".\n",
        "Column \"B\" should be the dependent variable (DV) \"y\".\n",
        "\n",
        "2. Check a scatterplot to confirm that an exponential model is sensible.\n",
        "\n",
        "3. If an exponential model makes sense, follow through with the rest of the analysis.\n",
        "\n",
        "**Important: You'll have to select starting values for $A$ and $r_{max}$. This is a major difference from a linear model.**\n",
        "\n",
        "**Part I: Selecting starting values for this model**\n",
        "\n",
        "4. We'll log-transform our $y$ values and run a linear model.\n",
        "\n",
        "5. Obtain the parameter estimates from the linear model (don't forget to exponentiate $\\beta_0$) and plug them into the starting value estimates for the non-linear model.\n",
        "\n",
        "**Part II: Fitting the non-linear model**\n",
        "\n",
        "6. Fit the non-linear model. \n",
        "\n",
        "7. Plot the residuals (if you like), and plot the fitted model against the observed values.\n",
        "\n",
        "8. If the model fit looks reasonable, get a summary of the model to get the parameter estimates.\n",
        "\n",
        "9. Interpret the parameter estimates. What do they mean?\n",
        "\n",
        "\n",
        "\n",
        "**Non-linear model**\n",
        "\n",
        "The general exponential equation we'll be fitting is:\n",
        "\n",
        "$$y = A\\cdot e^{x \\cdot r_{max}} +\\epsilon$$\n",
        "\n",
        "where $A$ is the intercept, $r_{max}$ is the growth rate, and $\\epsilon$ is the error associated with measuring $y$ and is assumed to be a normal with constant variance $\\epsilon \\sim N(0,\\sigma^2)$.\n",
        "\n",
        "We know $y$ and $x$.\n",
        "Just like a simple linear model, we'll be estimating only 2 parameters: $A$ and $r_{max}$.\n",
        "\n",
        "The fitted (or predicted) model is:\n",
        "\n",
        "$$\\hat{y} = \\hat{A} \\cdot e^{x \\cdot \\hat{r}_{max}}$$\n",
        "\n",
        "where $\\hat{y}$ is our best prediction of $y$ based on the parameter estimates $\\hat{A}$ and $\\hat{r}_{max}$.\n",
        "\n",
        "**Linearized model to get starting values**\n",
        "\n",
        "The log-transformed model (approximately) looks like this:\n",
        "\n",
        "$$\\ln{y}=\\ln{A} + r_{max} \\cdot x$$\n",
        "\n",
        "Think about why this model is only an approximation.\n",
        "\n",
        "Notice that if we fit this linear model, our intercept $\\beta_0 = \\ln{A}$ and our slope $\\beta_1 = r_{max}$.\n",
        "For this model these are probably pretty good starting values.\n",
        "\n",
        "$r_{max}$ seems pretty easy to find.To find $A$:\n",
        "\n",
        "\\begin{align}\n",
        "\\begin{aligned}\n",
        "\\beta_0 &= \\ln{A}\\\\\n",
        "    e^{\\beta_0}&= A\n",
        "\\end{aligned}\n",
        "\\end{align}\n",
        "\n"
      ]
    },
    {
      "cell_type": "code",
      "metadata": {
        "colab_type": "code",
        "cellView": "form",
        "id": "V7QrAmyepy3i",
        "colab": {}
      },
      "source": [
        "#@title Import the data as a file named \"exp.csv\" in the correct format (see above)\n",
        "from google.colab import files\n",
        "\n",
        "uploaded = files.upload()\n",
        "\n",
        "for fn in uploaded.keys():\n",
        "  print('User uploaded file \"{name}\" with length {length} bytes'.format(\n",
        "      name=fn, length=len(uploaded[fn])))"
      ],
      "execution_count": 0,
      "outputs": []
    },
    {
      "cell_type": "code",
      "metadata": {
        "colab_type": "code",
        "cellView": "form",
        "id": "xmy_iAHmpy3s",
        "colab": {}
      },
      "source": [
        "#@title Make the scatterplot\n",
        "\n",
        "%%R\n",
        "library(ggplot2)\n",
        "\n",
        "exp = read.csv(\"exp.csv\")\n",
        "\n",
        "plot = ggplot(exp, aes(x = x, y = y))\n",
        "plot = plot + geom_point()\n",
        "plot"
      ],
      "execution_count": 0,
      "outputs": []
    },
    {
      "cell_type": "code",
      "metadata": {
        "id": "0TjQlvry-Odc",
        "colab_type": "code",
        "cellView": "both",
        "colab": {}
      },
      "source": [
        "#@title Fit the log-transformed model to get starting values.\n",
        "\n",
        "%%R\n",
        "\n",
        "exp_lin_fit = lm(log(y)~x, data=exp)\n",
        "exp = exp%>%\n",
        "    mutate(excel = exp(coef(summary(exp_lin_fit))[1,1])*exp(x*coef(summary(exp_lin_fit))[2,1]))\n",
        "coef(summary(exp_lin_fit))[,1]"
      ],
      "execution_count": 0,
      "outputs": []
    },
    {
      "cell_type": "markdown",
      "metadata": {
        "id": "R7KsheihiV3t",
        "colab_type": "text"
      },
      "source": [
        "Interpreting the output:\n",
        "\n",
        "\\begin{align}\n",
        "\\begin{aligned}\n",
        "(Intercept) = \\beta_0 &= \\ln{A}\\\\\n",
        "    e^{\\beta_0}&= A\\\\\n",
        "    and...\\\\\n",
        "    x&=\\beta_1\n",
        "\\end{aligned}\n",
        "\\end{align}\n",
        "\n"
      ]
    },
    {
      "cell_type": "code",
      "metadata": {
        "colab_type": "code",
        "cellView": "form",
        "id": "hhHWDuPlpy3y",
        "colab": {}
      },
      "source": [
        "#@title Choose starting values A and k for the model (choose the values and then run this cell)\n",
        "A_start = 120.8 #@param {type:\"number\"}\n",
        "k_start = -0.03507106 #@param {type:\"number\"}\n",
        "\n",
        "list=[A_start,k_start]"
      ],
      "execution_count": 0,
      "outputs": []
    },
    {
      "cell_type": "code",
      "metadata": {
        "colab_type": "code",
        "cellView": "form",
        "id": "FP0l_Ojwpy35",
        "colab": {}
      },
      "source": [
        "#@title Fit an exponential model to the data (no output is produced here)\n",
        "%%R -i list\n",
        "\n",
        "A_start = list[1]\n",
        "k_start = list[2]\n",
        "\n",
        "fit_exp <- nls(data=exp,\n",
        "            formula = y ~ A*exp(x*k),\n",
        "            start = list(A=A_start,k=k_start))"
      ],
      "execution_count": 0,
      "outputs": []
    },
    {
      "cell_type": "code",
      "metadata": {
        "colab_type": "code",
        "cellView": "form",
        "id": "WEqjsjK7py39",
        "colab": {}
      },
      "source": [
        "#@title Check to make sure the residuals look random and have equal variance (shotgun blast, no pattern)\n",
        "%%R\n",
        "\n",
        "library(ggplot2)\n",
        "library(dplyr)\n",
        "library(tidyr)\n",
        "\n",
        "exp_res = exp%>%\n",
        "    mutate(res = residuals(fit_exp))%>%\n",
        "    mutate(std_res = res/summary(fit_exp)$sigma )\n",
        "    \n",
        "res_plot = ggplot(exp_res, aes(x = predict(fit_exp), y = std_res))\n",
        "res_plot = res_plot + geom_point()\n",
        "res_plot"
      ],
      "execution_count": 0,
      "outputs": []
    },
    {
      "cell_type": "code",
      "metadata": {
        "colab_type": "code",
        "cellView": "form",
        "id": "QYkyC9wupy4B",
        "colab": {}
      },
      "source": [
        "#@title Check the residuals for normality (the points should generally fall on the line)\n",
        "%%R\n",
        "\n",
        "qqnorm(residuals(fit_exp))\n",
        "qqline(residuals(fit_exp))"
      ],
      "execution_count": 0,
      "outputs": []
    },
    {
      "cell_type": "code",
      "metadata": {
        "colab_type": "code",
        "cellView": "form",
        "id": "4TdBucnipy4F",
        "colab": {}
      },
      "source": [
        "#@title Check our model fit against the observed values (model fit is the green line)\n",
        "%%R\n",
        "\n",
        "plot(exp$x,exp$y)\n",
        "lines(predict(fit_exp), col=\"green\")"
      ],
      "execution_count": 0,
      "outputs": []
    },
    {
      "cell_type": "code",
      "metadata": {
        "colab_type": "code",
        "cellView": "form",
        "id": "Hd2i60MSpy4J",
        "colab": {}
      },
      "source": [
        "#@title Getting our parameter estimates\n",
        "%%R\n",
        "\n",
        "coef(summary(fit_exp))[,1]\n",
        "\n"
      ],
      "execution_count": 0,
      "outputs": []
    },
    {
      "cell_type": "code",
      "metadata": {
        "id": "RoUoyJofl1uc",
        "colab_type": "code",
        "cellView": "form",
        "colab": {}
      },
      "source": [
        "#@title Excel vs R (R is Green, Excel is Red)\n",
        "%%R\n",
        "\n",
        "plot(exp$x,exp$y)\n",
        "lines(predict(fit_exp), col=\"green\")\n",
        "lines(exp$x,exp$excel, col=\"red\")"
      ],
      "execution_count": 0,
      "outputs": []
    },
    {
      "cell_type": "markdown",
      "metadata": {
        "id": "AhEU2gJQHxiI",
        "colab_type": "text"
      },
      "source": [
        "## Logistic model\n",
        "\n",
        "1. Upload a \".csv\" file named \"**logistic.csv**\".\n",
        "Make sure that the data are stored in two columns: column \"A\" should be the independent variable (IV) named \"x\".\n",
        "Column \"B\" should be the dependent variable (DV) \"y\".\n",
        "\n",
        "2. Check a scatterplot to confirm that a logistic model is sensible.\n",
        "\n",
        "3. If a logistic model makes sense, follow through with the rest of the analysis.\n",
        "\n",
        "**Important: You'll have to select starting values for $K$, $P_0$ and $r_{max}$. Your instructor should be able to help you with this.**\n",
        "\n",
        "**Part I: Selecting starting values for this model**\n",
        "\n",
        "4. Fit a linear\n",
        "\n",
        "4. Plot the residuals (if you like), and plot the fitted model against the observed values.\n",
        "**Note to instructors: If you don't want to cover residuals then feel free to skip this.**\n",
        "\n",
        "\n",
        "5. If the model fit looks reasonable, get a summary of the model to get the parameter estimates.\n",
        "\n",
        "6. Interpret the parameter estimates. What do they mean?\n",
        "\n",
        "The general exponential equation we'll be fitting is:\n",
        "\n",
        "$$y = \\frac{K}{1+(\\frac{K}{P_0}-1)\\cdot e^{-r_{max} \\cdot x}} + \\epsilon$$\n",
        "\n",
        "where $K$ is the carrying capacity, $P_0$ is the initial population size, $r_{max}$ is the growth rate, and $\\epsilon$ is the error associated with measuring $y$ and is assumed to be a normal with constant variance $\\epsilon \\sim N(0,\\sigma^2)$.\n",
        "\n",
        "We know $y$ and $x$.\n",
        "We'll be estimating 3 parameters: $K$, $P_0$ and $r_{max}$.\n",
        "\n",
        "The fitted (or predicted) model is:\n",
        "\n",
        "$$\\hat{y} =\\frac{\\hat{K}}{1+(\\frac{\\hat{K}}{\\hat{P_0}}-1)\\cdot e^{-\\hat{r}_{max} \\cdot x}}$$\n",
        "\n",
        "where $\\hat{y}$ is our best prediction of $y$ based on the parameter estimates $\\hat{K}$, $\\hat{P_0}$ and $\\hat{r}_{max}$."
      ]
    },
    {
      "cell_type": "code",
      "metadata": {
        "colab_type": "code",
        "cellView": "form",
        "id": "RES9q0lspzkJ",
        "colab": {}
      },
      "source": [
        "#@title Import the data as a file named \"logistic.csv\" in the correct format (see above)\n",
        "from google.colab import files\n",
        "\n",
        "uploaded = files.upload()\n",
        "\n",
        "for fn in uploaded.keys():\n",
        "  print('User uploaded file \"{name}\" with length {length} bytes'.format(\n",
        "      name=fn, length=len(uploaded[fn])))"
      ],
      "execution_count": 0,
      "outputs": []
    },
    {
      "cell_type": "code",
      "metadata": {
        "colab_type": "code",
        "cellView": "form",
        "id": "ddhw0OtVpzkU",
        "colab": {}
      },
      "source": [
        "#@title Make the scatterplot\n",
        "\n",
        "%%R\n",
        "library(ggplot2)\n",
        "\n",
        "logistic = read.csv(\"logistic.csv\")\n",
        "\n",
        "plot = ggplot(logistic, aes(x = x, y = y))\n",
        "plot = plot + geom_point()\n",
        "plot"
      ],
      "execution_count": 0,
      "outputs": []
    },
    {
      "cell_type": "code",
      "metadata": {
        "id": "SkTh5gnSsCg9",
        "colab_type": "code",
        "cellView": "form",
        "colab": {}
      },
      "source": [
        "#@title Choose a cutoff for x\n",
        "xcut = 25 #@param {type:\"number\"}\n"
      ],
      "execution_count": 0,
      "outputs": []
    },
    {
      "cell_type": "code",
      "metadata": {
        "id": "wxHmCZ5drnLi",
        "colab_type": "code",
        "cellView": "form",
        "colab": {}
      },
      "source": [
        "#@title\n",
        "%%R -i xcut\n",
        "\n",
        "log_exp_dat = logistic%>%\n",
        "    filter(x < xcut)\n",
        "  \n",
        "log_lin_fit = lm(log(y)~x, data=log_exp_dat)\n",
        "#logistic = logistic%>%\n",
        "#    mutate(excel = exp(coef(summary(log_lin_fit))[1,1])*exp(x*coef(summary(log_lin_fit))[2,1]))\n",
        "coef(summary(log_lin_fit))[,1]"
      ],
      "execution_count": 0,
      "outputs": []
    },
    {
      "cell_type": "code",
      "metadata": {
        "id": "D9AYjb2wQC_N",
        "colab_type": "code",
        "cellView": "form",
        "colab": {}
      },
      "source": [
        "#@title Choose starting values for K, P0 and r (choose the values and then run this cell)\n",
        "K_start = 1100 #@param {type:\"number\"}\n",
        "P0_start = 103 #@param {type:\"number\"}\n",
        "r_start = .065 #@param {type:\"number\"}\n",
        "\n",
        "list = [K_start, P0_start, r_start]"
      ],
      "execution_count": 0,
      "outputs": []
    },
    {
      "cell_type": "code",
      "metadata": {
        "colab_type": "code",
        "cellView": "form",
        "id": "4gqn7--2pzkp",
        "colab": {}
      },
      "source": [
        "#@title Fit a logistic model to the data (no output is produced here)\n",
        "%%R -i list\n",
        "\n",
        "K_start = list[1]\n",
        "P0_start = list[2]\n",
        "r_start = list[3]\n",
        "\n",
        "fit_logistic <- nls(data=logistic,\n",
        "            formula = y ~ K/(1+(K/P0-1)*exp(-r*x)),\n",
        "            start = list(K=K_start,P0=P0_start, r=r_start))"
      ],
      "execution_count": 0,
      "outputs": []
    },
    {
      "cell_type": "code",
      "metadata": {
        "colab_type": "code",
        "cellView": "form",
        "id": "1vYzwbIVpzku",
        "colab": {}
      },
      "source": [
        "#@title Check to make sure the residuals look random and have equal variance (shotgun blast, no pattern)\n",
        "%%R\n",
        "\n",
        "library(ggplot2)\n",
        "library(dplyr)\n",
        "library(tidyr)\n",
        "\n",
        "logistic_res = logistic%>%\n",
        "    mutate(res = residuals(fit_logistic))%>%\n",
        "    mutate(std_res = res/summary(fit_logistic)$sigma )\n",
        "    \n",
        "res_plot = ggplot(logistic_res, aes(x = predict(fit_logistic), y = std_res))\n",
        "res_plot = res_plot + geom_point()\n",
        "res_plot"
      ],
      "execution_count": 0,
      "outputs": []
    },
    {
      "cell_type": "code",
      "metadata": {
        "colab_type": "code",
        "cellView": "form",
        "id": "T6_zeWyopzk2",
        "colab": {}
      },
      "source": [
        "#@title Check the residuals for normality (the points should generally fall on the line)\n",
        "%%R\n",
        "\n",
        "qqnorm(residuals(fit_logistic))\n",
        "qqline(residuals(fit_logistic))"
      ],
      "execution_count": 0,
      "outputs": []
    },
    {
      "cell_type": "code",
      "metadata": {
        "colab_type": "code",
        "cellView": "form",
        "id": "dF3gNURrpzk4",
        "colab": {}
      },
      "source": [
        "#@title Check our model fit against the observed values (model fit is the green line)\n",
        "%%R\n",
        "\n",
        "plot(logistic$x,logistic$y)\n",
        "lines(predict(fit_logistic), col=\"green\")"
      ],
      "execution_count": 0,
      "outputs": []
    },
    {
      "cell_type": "code",
      "metadata": {
        "colab_type": "code",
        "cellView": "form",
        "id": "SkiNc2NJpzk9",
        "colab": {}
      },
      "source": [
        "#@title Getting our parameter estimates\n",
        "%%R\n",
        "\n",
        "coef(summary(fit_logistic))[,1]\n",
        "\n"
      ],
      "execution_count": 0,
      "outputs": []
    }
  ]
}