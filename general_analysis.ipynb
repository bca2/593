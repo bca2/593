{
  "nbformat": 4,
  "nbformat_minor": 0,
  "metadata": {
    "colab": {
      "name": "general_analysis.ipynb",
      "version": "0.3.2",
      "provenance": [],
      "collapsed_sections": [],
      "include_colab_link": true
    },
    "kernelspec": {
      "name": "python3",
      "display_name": "Python 3"
    }
  },
  "cells": [
    {
      "cell_type": "markdown",
      "metadata": {
        "id": "view-in-github",
        "colab_type": "text"
      },
      "source": [
        "<a href=\"https://colab.research.google.com/github/bca2/593/blob/master/general_analysis.ipynb\" target=\"_parent\"><img src=\"https://colab.research.google.com/assets/colab-badge.svg\" alt=\"Open In Colab\"/></a>"
      ]
    },
    {
      "cell_type": "markdown",
      "metadata": {
        "id": "_cfiHVHQFtML",
        "colab_type": "text"
      },
      "source": [
        "# General linear/non-linear analysis\n",
        "\n",
        "The point of this document will be to provide the statistical tools necessary to perform a linear or non-linear analysis of data.\n",
        "\n",
        "The data must be uploaded with a specific name, and the data columns must also be named 'x' and 'y' (or there needs to be an option to specify these names)\n",
        "\n",
        "Step 1: Scatterplot of the data to assess the type of relationship\n",
        "\n",
        "Step 2: Widget that allows user to specify analysis type (linear, non-linear)\n",
        "\n",
        "Step 3: ifelse statements that run through user specifications and link to the desired analysis\n",
        "\n",
        "Step 4: Output analysis results in an easily readable manner\n",
        "\n",
        "Step 5: Resisdual plots to confirm that model assumptions were valid.\n",
        "\n",
        "Comparison between R and excel?: Why teach R instead of excel?"
      ]
    },
    {
      "cell_type": "code",
      "metadata": {
        "id": "k95ODrtkFos0",
        "colab_type": "code",
        "colab": {}
      },
      "source": [
        ""
      ],
      "execution_count": 0,
      "outputs": []
    }
  ]
}