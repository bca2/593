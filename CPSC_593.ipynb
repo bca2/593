{
  "nbformat": 4,
  "nbformat_minor": 0,
  "metadata": {
    "colab": {
      "name": "CPSC 593.ipynb",
      "version": "0.3.2",
      "provenance": [],
      "collapsed_sections": [
        "A--Uu8Dq--Cu",
        "tMPceE692nfs",
        "OtJahpCtPPGq",
        "lP4nMpIbLHzt",
        "NaiVjtDjgEgg"
      ],
      "toc_visible": true,
      "include_colab_link": true
    },
    "kernelspec": {
      "name": "python3",
      "display_name": "Python 3"
    },
    "accelerator": "GPU"
  },
  "cells": [
    {
      "cell_type": "markdown",
      "metadata": {
        "id": "view-in-github",
        "colab_type": "text"
      },
      "source": [
        "<a href=\"https://colab.research.google.com/github/bca2/593/blob/master/CPSC_593.ipynb\" target=\"_parent\"><img src=\"https://colab.research.google.com/assets/colab-badge.svg\" alt=\"Open In Colab\"/></a>"
      ]
    },
    {
      "cell_type": "markdown",
      "metadata": {
        "id": "r8b67m5qqVfp",
        "colab_type": "text"
      },
      "source": [
        "# Population growth and evolution\n",
        "\n",
        "The purpose of this document is to help Illinois high school science/math teachers comply with the Next Generation Science Standards by providing worked examples for the following learning requirements:\n",
        "\n",
        "**HS-LS2**\n",
        "\n",
        "1. Use mathematical and/or computational representations to support explanations of factors that affect carrying capacity of ecosystems at different scales. (HS-LS2-1)\n",
        "1. Evaluate claims, evidence, and reasoning that the complex interactions in ecosystems maintain relatively consistent numbers and types of organisms in stable conditions, but changing conditions may result in a new ecosystem. (HS-LS2-6)\n",
        "1. \tDesign, evaluate, and refine a solution for reducing the impacts of human activities on the environment and biodiversity. (HS-LS2-7)\n",
        "\n",
        "**HS-LS3**\n",
        "\n",
        "1. Apply concepts of statistics and probability to explain the variation and distribution of expressed traits in a population. (HS-LS3-3)\n",
        "\n",
        "\n",
        "**HS-LS4**\n",
        "\n",
        "1. Construct an explanation based on evidence that the process of evolution primarily results from four factors: (1) the potential for a species to increase in number, (2) the heritable genetic variation of individuals in a species due to mutation and sexual reproduction, (3) competition for limited resources, and (4) the proliferation of those organisms that are better able to survive and reproduce in the environment. (HS-LS4-2)\n",
        "1. Apply concepts of statistics and probability to support explanations that organisms with an advantageous heritable trait tend to increase in proportion to organisms lacking this trait. (HS-LS4-3)\n",
        "1. Construct an explanation based on evidence for how natural selection leads to adaptation of populations. (HS-LS4-4)\n",
        "1. Evaluate the evidence supporting claims that changes in environmental conditions may result in (1) increases in the number of individuals of some species, (2) the emergence of new species over time, and (3) the extinction of other species. (HS-LS4-5)\n",
        "1. Create or revise a simulation to test a solution to mitigate adverse impacts of human activity on biodiversity. (HS-LS4-6)\n",
        "\n",
        "Additionally, this entire lab project was developed with the chromebook in mind.\n",
        "Everything here should be completely accessible to someone using a chromebook with access to google drive and the internet."
      ]
    },
    {
      "cell_type": "markdown",
      "metadata": {
        "id": "YuqxU-01u4tg",
        "colab_type": "text"
      },
      "source": [
        "## Outline\n",
        "1. Population growth\n",
        "    \n",
        "    1. Discrete\n",
        "        1. Geometric growth\n",
        "        1. Discrete logistic\n",
        "    1. Continuous\n",
        "        1. Exponential\n",
        "        1. Logistic\n",
        "    1. Calculating observed growth rate using matrix math\n",
        "        1. What does the observed rate mean?\n",
        "        1. How do we separate the growth rate from the carrying capacity drag?\n",
        "    \n",
        "    1. Worked example using simulated data\n",
        "    \n",
        "1. Invasive species\n",
        "\n",
        "    1. What is an invasive species, why don't we like them?\n",
        "    1. Invasive/Native species and population growth: Determining where to allocate funds when it comes it environmental protection.\n",
        "\n",
        "1. Evolution of herbicide resistance\n",
        "\n",
        "    1. Herbicide resistance: what is it?\n",
        "    1. How do weed populations evolve to be resistant to herbicide?\n",
        "    1. Worked example: 3 different genotypes/phenotypes sprayed with herbicide over time.\n",
        "        1. How would we model this assuming\n",
        "\n"
      ]
    },
    {
      "cell_type": "markdown",
      "metadata": {
        "id": "Vfz7IqL-ZJs_",
        "colab_type": "text"
      },
      "source": [
        "# Python and R (and coding in general)\n",
        "\n",
        "&nbsp;\n",
        "Python is a programming language primarily suited for development while R is suited for data analysis.\n",
        "In my experience it's a mistake to choose one language and eschew others: learn as many as possible because  it's hard to know which will be the most useful to you in the future.\n",
        "Also, keep in mind that these are not the only languages.\n",
        "\n",
        "&nbsp;\n",
        "The nice thing about learning code is that there's a certain logical flow that seems to be consistent between languages.\n",
        "Named functions and syntax may differ, but the logic will be very similar in general.\n",
        "In this document I will try to provide examples of both python and R code.\n",
        "\n",
        "\n",
        "&nbsp;\n",
        "Also: my degree is not in computer science, and there may be better and more efficient ways of writing this code.\n",
        "That's fine.\n",
        "Your own code doesn't have to be perfect the first time around.\n",
        "It doesn't have to be perfect ever.\n",
        "Just make sure that it does what you want, and make improvements as you learn."
      ]
    },
    {
      "cell_type": "markdown",
      "metadata": {
        "id": "1uZsedYFmZyr",
        "colab_type": "text"
      },
      "source": [
        "## Enable R within Python\n",
        "\n",
        "The following code allows us to use the R language and R commands within Python.\n",
        "\n",
        "Any code that starts with \"%%R\" is using the R programming language.\n",
        "If that prompt is not present then the code is Python.\n"
      ]
    },
    {
      "cell_type": "code",
      "metadata": {
        "id": "ZDEKJysbRXdB",
        "colab_type": "code",
        "colab": {}
      },
      "source": [
        "# The following code lets us speak in the R language while working from within Python\n",
        "\n",
        "%load_ext rpy2.ipython\n",
        "\n",
        "# Using R inside python in this way tends to produce warnings\n",
        "# The warnings don't seem to have an effect on the desired output, so I'm just going to suppress the warnings.\n",
        "# You can go ahead and run the code with and without warnings by excluding/including the following code:\n",
        "\n",
        "import warnings\n",
        "from rpy2.rinterface import RRuntimeWarning\n",
        "warnings.filterwarnings(\"ignore\", category=RRuntimeWarning)\n",
        "\n",
        "# To comment out code, just use the pound sign (hashtag) \"#\"\n",
        "# Code that's been commented out will not be run, just like this comment I'm writing right now.\n",
        "# Comments help us in two major ways:\n",
        "#   1. You can easily leave instructions or clarifications in your code for other people or for future you.\n",
        "#   2. You can see how your code runs without certain lines of code without actually deleting your code.\n",
        "#       My advice: Try not to delete your code. You may change your mind later, and it's good to have it readily available."
      ],
      "execution_count": 0,
      "outputs": []
    },
    {
      "cell_type": "markdown",
      "metadata": {
        "id": "gwi6TTIocs-H",
        "colab_type": "text"
      },
      "source": [
        "## Markdown\n",
        "\n",
        "&nbsp;\n",
        "The text portions of this document are written in markdown.\n",
        "Markdown can fairly easily be converted to .doc, .pdf, and html using pandoc.\n",
        "I believe that Google Colab just converts everything to html on the fly, and that there are currently no .doc and .pdf options (as far as I know).\n",
        "However, these options do exist within programs like Rstudio (an integrated development environment (IDE) for R) and it's very useful for creating statistical reports.\n",
        "\n",
        "[See the guide for more details](https://www.markdownguide.org/basic-syntax/)"
      ]
    },
    {
      "cell_type": "markdown",
      "metadata": {
        "id": "D7NrMMTI4hvs",
        "colab_type": "text"
      },
      "source": [
        "# Models: What are they, and why are they useful?\n",
        "\n",
        "There are 2 main types of models that concern us in biology.\n",
        "\n",
        "\n",
        "\n",
        "1. Biological or mechanistic models.\n",
        "\n",
        "1. Statistical models\n",
        "\n",
        "&nbsp;\n",
        "The difference between biological models and statistical models is generally quite large.\n",
        "Biological models tend to be descriptive or conceptual, while statistical models are mathematical in nature.\n",
        "That doesn't mean that biological models can't be mathematical (matrix population models are mathematical).\n",
        "\n",
        "&nbsp;\n",
        "Additionally: it's important that you remember a quote generally attributed to a famous statistician:\n",
        "\n",
        "---\n",
        "> \"All models are wrong, but some are useful.\" - George Box\n",
        "---\n",
        "\n",
        "Whether he said it or not is irrelevant.\n",
        "The point is that every model, no matter how complex, is just an approximation to real life.\n",
        "When creating a model it's important that it describes all of the features of interest reasonably well without being too complex.\n",
        "In other words, you should try to make your model as simple as possible while still being able to describe the phenomena of interest.\n"
      ]
    },
    {
      "cell_type": "markdown",
      "metadata": {
        "id": "fUnW970W7JyO",
        "colab_type": "text"
      },
      "source": [
        "## Biological models\n",
        "\n",
        "Biological models tend to describe how we imagine biologial processes to work.\n",
        "\n",
        "There are molecular models that described how DNA is replicated and how enzymes interact with substrates.\n",
        "\n",
        "There are population models that describe how survival and fecundity at each point in an organisms life affect overall population dynamics and growth.\n",
        "\n",
        "There are ecological models that describe nutrient cycling and weather patterns."
      ]
    },
    {
      "cell_type": "markdown",
      "metadata": {
        "id": "CmS63YSpX6WG",
        "colab_type": "text"
      },
      "source": [
        "## Simple population model for an annual plant\n",
        "\n",
        "This is an example of a biological model that represents the lifecycle of a summer annual plant.\n",
        "Each arrow represents a transition period.\n",
        "The arrow from seed (time =t) to seedling is a germination transition.\n",
        "In other words, what is the proportion of seeds in the seedbank that germinate and reach the seedling stage?\n",
        "In fact all of the arrows here represent transitions that we measure as probabilities (germination or survival) except for the arrow from Adult to seed (time =t+1) which is a fecundity measurement.\n",
        "Fecundity is the number of seeds produced by mature plants.\n",
        "\n",
        "\n",
        "We'll see later that this model is both conceptual and mathematical: it is isomorphic to a set of mathematical matrices that, when multiplied together, calculate the population growth rate.\n",
        "We won't be going into any serious linear algebra problems, this model can be represented by a single linear equation (that we'll see later).\n"
      ]
    },
    {
      "cell_type": "code",
      "metadata": {
        "id": "6Ep_wiOf9cSE",
        "colab_type": "code",
        "cellView": "both",
        "outputId": "055801e0-53fb-488a-8c90-fa30ae8be8d1",
        "colab": {
          "base_uri": "https://localhost:8080/",
          "height": 109
        }
      },
      "source": [
        "#@title Annual plant lifecycle\n",
        "import graphviz\n",
        "\n",
        "annual=graphviz.Digraph()\n",
        "annual.node(\"A\", \"Seed (time = t)\")\n",
        "annual.node(\"B\", \"Seedling\")\n",
        "annual.node(\"C\", \"Juvenile\")\n",
        "annual.node(\"D\", \"Adult\")\n",
        "annual.node(\"E\", \"Seed (time = t+1)\")\n",
        "\n",
        "annual.edge(\"A\",\"B\")\n",
        "annual.edge(\"B\",\"C\")\n",
        "annual.edge(\"C\",\"D\")\n",
        "annual.edge(\"D\",\"E\")\n",
        "annual.edge(\"A\",\"E\",constraint=\"false\")\n",
        "\n",
        "annual.graph_attr['rankdir'] = 'LR'\n",
        "\n",
        "annual\n"
      ],
      "execution_count": 0,
      "outputs": [
        {
          "output_type": "execute_result",
          "data": {
            "text/plain": [
              "<graphviz.dot.Digraph at 0x7ff63f353ba8>"
            ],
            "image/svg+xml": "<?xml version=\"1.0\" encoding=\"UTF-8\" standalone=\"no\"?>\n<!DOCTYPE svg PUBLIC \"-//W3C//DTD SVG 1.1//EN\"\n \"http://www.w3.org/Graphics/SVG/1.1/DTD/svg11.dtd\">\n<!-- Generated by graphviz version 2.40.1 (20161225.0304)\n -->\n<!-- Title: %3 Pages: 1 -->\n<svg width=\"671pt\" height=\"66pt\"\n viewBox=\"0.00 0.00 670.65 65.77\" xmlns=\"http://www.w3.org/2000/svg\" xmlns:xlink=\"http://www.w3.org/1999/xlink\">\n<g id=\"graph0\" class=\"graph\" transform=\"scale(1 1) rotate(0) translate(4 61.769)\">\n<title>%3</title>\n<polygon fill=\"#ffffff\" stroke=\"transparent\" points=\"-4,4 -4,-61.769 666.654,-61.769 666.654,4 -4,4\"/>\n<!-- A -->\n<g id=\"node1\" class=\"node\">\n<title>A</title>\n<ellipse fill=\"none\" stroke=\"#000000\" cx=\"65.6442\" cy=\"-39.769\" rx=\"65.7887\" ry=\"18\"/>\n<text text-anchor=\"middle\" x=\"65.6442\" y=\"-36.069\" font-family=\"Times,serif\" font-size=\"14.00\" fill=\"#000000\">Seed (time = t)</text>\n</g>\n<!-- B -->\n<g id=\"node2\" class=\"node\">\n<title>B</title>\n<ellipse fill=\"none\" stroke=\"#000000\" cx=\"210.8345\" cy=\"-39.769\" rx=\"43.5923\" ry=\"18\"/>\n<text text-anchor=\"middle\" x=\"210.8345\" y=\"-36.069\" font-family=\"Times,serif\" font-size=\"14.00\" fill=\"#000000\">Seedling</text>\n</g>\n<!-- A&#45;&gt;B -->\n<g id=\"edge1\" class=\"edge\">\n<title>A&#45;&gt;B</title>\n<path fill=\"none\" stroke=\"#000000\" d=\"M131.4424,-39.769C139.8833,-39.769 148.4479,-39.769 156.6742,-39.769\"/>\n<polygon fill=\"#000000\" stroke=\"#000000\" points=\"156.8786,-43.2691 166.8786,-39.769 156.8786,-36.2691 156.8786,-43.2691\"/>\n</g>\n<!-- E -->\n<g id=\"node5\" class=\"node\">\n<title>E</title>\n<ellipse fill=\"none\" stroke=\"#000000\" cx=\"586.6107\" cy=\"-39.769\" rx=\"76.0865\" ry=\"18\"/>\n<text text-anchor=\"middle\" x=\"586.6107\" y=\"-36.069\" font-family=\"Times,serif\" font-size=\"14.00\" fill=\"#000000\">Seed (time = t+1)</text>\n</g>\n<!-- A&#45;&gt;E -->\n<g id=\"edge5\" class=\"edge\">\n<title>A&#45;&gt;E</title>\n<path fill=\"none\" stroke=\"#000000\" d=\"M108.1782,-25.8337C126.1977,-20.6226 147.554,-15.3453 167.2884,-12.769 302.7077,4.9104 338.9524,3.3406 474.5675,-12.769 492.5055,-14.8998 511.7263,-18.8857 529.0941,-23.1532\"/>\n<polygon fill=\"#000000\" stroke=\"#000000\" points=\"528.5285,-26.6205 539.0821,-25.6865 530.2495,-19.8354 528.5285,-26.6205\"/>\n</g>\n<!-- C -->\n<g id=\"node3\" class=\"node\">\n<title>C</title>\n<ellipse fill=\"none\" stroke=\"#000000\" cx=\"331.9769\" cy=\"-39.769\" rx=\"41.6928\" ry=\"18\"/>\n<text text-anchor=\"middle\" x=\"331.9769\" y=\"-36.069\" font-family=\"Times,serif\" font-size=\"14.00\" fill=\"#000000\">Juvenile</text>\n</g>\n<!-- B&#45;&gt;C -->\n<g id=\"edge2\" class=\"edge\">\n<title>B&#45;&gt;C</title>\n<path fill=\"none\" stroke=\"#000000\" d=\"M254.5697,-39.769C262.8571,-39.769 271.6012,-39.769 280.1112,-39.769\"/>\n<polygon fill=\"#000000\" stroke=\"#000000\" points=\"280.329,-43.2691 290.329,-39.769 280.3289,-36.2691 280.329,-43.2691\"/>\n</g>\n<!-- D -->\n<g id=\"node4\" class=\"node\">\n<title>D</title>\n<ellipse fill=\"none\" stroke=\"#000000\" cx=\"442.0704\" cy=\"-39.769\" rx=\"32.4942\" ry=\"18\"/>\n<text text-anchor=\"middle\" x=\"442.0704\" y=\"-36.069\" font-family=\"Times,serif\" font-size=\"14.00\" fill=\"#000000\">Adult</text>\n</g>\n<!-- C&#45;&gt;D -->\n<g id=\"edge3\" class=\"edge\">\n<title>C&#45;&gt;D</title>\n<path fill=\"none\" stroke=\"#000000\" d=\"M373.5985,-39.769C381.9968,-39.769 390.8391,-39.769 399.2768,-39.769\"/>\n<polygon fill=\"#000000\" stroke=\"#000000\" points=\"399.3112,-43.2691 409.3112,-39.769 399.3112,-36.2691 399.3112,-43.2691\"/>\n</g>\n<!-- D&#45;&gt;E -->\n<g id=\"edge4\" class=\"edge\">\n<title>D&#45;&gt;E</title>\n<path fill=\"none\" stroke=\"#000000\" d=\"M474.8688,-39.769C482.615,-39.769 491.2338,-39.769 500.1528,-39.769\"/>\n<polygon fill=\"#000000\" stroke=\"#000000\" points=\"500.3196,-43.2691 510.3195,-39.769 500.3195,-36.2691 500.3196,-43.2691\"/>\n</g>\n</g>\n</svg>\n"
          },
          "metadata": {
            "tags": []
          },
          "execution_count": 2
        }
      ]
    },
    {
      "cell_type": "markdown",
      "metadata": {
        "id": "czXkq20s7NDk",
        "colab_type": "text"
      },
      "source": [
        "## Statistical models"
      ]
    },
    {
      "cell_type": "markdown",
      "metadata": {
        "id": "KmGs5XWT4qkE",
        "colab_type": "text"
      },
      "source": [
        "# Population growth\n",
        "\n",
        "Before we start talking about carrying capacities and evolution, we should at least have a reasonable mathematical representation of how we can think about population growth.\n",
        "There are many different ways to model population growth, but we'll focus on just two of them here."
      ]
    },
    {
      "cell_type": "markdown",
      "metadata": {
        "id": "-wxRepe7pQl7",
        "colab_type": "text"
      },
      "source": [
        "## Geometric growth\n",
        "\n",
        "Geometric growth occurs when the population growth rate remains constant and there are very few or no environmental limitations.\n",
        "This type of growth is common during the early stages of population growth but generally does not continue for very long.\n",
        "Additionally, geometric growth is used to describe populations that reproduce in a pulsed, all at the same time.\n",
        "To make this more clear, think about how annual plants reproduce compared to humans.\n",
        "Members from an annual plant species germinate and reproduce at approximately the same times every year.\n",
        "By contrast, humans can continually reproduce all year.\n",
        "It turns out that these two types of populations are described by different (but analagous) models.\n",
        "\n",
        "Let $P_{t}$ represent the population size at time $t$, $P_{t+1}$ represent the population size at time $t+1$ and $r$ represent the *per capita* rate of increase.\n",
        "\n",
        "$$P_{t+1} =  P_{t} + r \\cdot P_{t}$$\n",
        "\n",
        "That is to say, the future population size is a function of the current population size as well as a rate of population growth.\n",
        "\n",
        "Let's take a look at how $r$ affects the relationship between $P_{t}$ and $P_{t+1}$.\n",
        "First, observe that if $r$ is equal to zero then:\n",
        "\n",
        "$$P_{t+1} =  P_{t}$$\n",
        "\n",
        "If there's no net growth then the population stays the same size.\n",
        "\n",
        "What about positive or negative values of $r$?\n",
        "Let's rearange our equation to answer this question. \n",
        "\n",
        "\n",
        "$$\\frac{P_{t+1}-P_{t}}{P_{t}} =   r  $$\n",
        "\n",
        "\n",
        "Notice that if $P_{t+1} <  P_{t}$ then $r$ will be negative.\n",
        "Another way to say that is if we have a negative population growth rate then our population will decline over time.\n",
        "\n",
        "Similarly, if $P_{t+1} >  P_{t}$ then $r$ will be positive.\n",
        "\n",
        "Texts may represent the equation like this:\n",
        "\n",
        "$$P_{t+1} =  P_{t} \\cdot (1 + r)$$\n",
        "$$P_{t+1} =  P_{t} \\cdot \\lambda$$\n",
        "\n",
        "Let's graph it!"
      ]
    },
    {
      "cell_type": "code",
      "metadata": {
        "id": "e7oKy5jhm75N",
        "colab_type": "code",
        "outputId": "79a2062a-f49b-4990-a394-26830abf7d87",
        "colab": {
          "base_uri": "https://localhost:8080/",
          "height": 497
        }
      },
      "source": [
        "%%R # This tells python that we're speaking in \"R\" rather than \"python\"\n",
        "# Notice that curly brackets in R take the place of indents in python\n",
        "# Also, notice that for these simulation exmaples there is no outside data.\n",
        "#  Everything you see comes from the functions and loops that we create here.\n",
        "\n",
        "library(ggplot2)\n",
        "\n",
        "geo_pop = function(rate, pop_initial, years){\n",
        "    size = pop_initial\n",
        "    \n",
        "    df = data.frame(tt = as.numeric(),\n",
        "                   pS = as.numeric(),\n",
        "                   rate = as.numeric())\n",
        "    \n",
        "    currentyear = 1\n",
        "    \n",
        "    while (currentyear <= years){\n",
        "        size = size + rate*size\n",
        "        \n",
        "        df[currentyear,1] = currentyear\n",
        "        df[currentyear,2] = size\n",
        "        df[currentyear,3] = rate\n",
        "        \n",
        "        currentyear = currentyear + 1\n",
        "    }\n",
        "    return(df)\n",
        "}\n",
        "\n",
        "r = -0.1\n",
        "\n",
        "df1 = data.frame(tt = as.numeric(),\n",
        "               pS = as.numeric(),\n",
        "               rate = as.numeric())\n",
        "\n",
        "while (r <= 0.5){\n",
        "    df = geo_pop(r,100,20)\n",
        "    df1 = rbind(df1,df)\n",
        "    \n",
        "    r = r + 0.2\n",
        "}\n",
        "\n",
        "plot = ggplot(df1, aes(x = tt, y = pS, group = factor(rate), color = factor(rate)))\n",
        "plot = plot + geom_point()\n",
        "plot = plot + geom_line() +\n",
        "        coord_cartesian(ylim=c(0, 1000))\n",
        "plot"
      ],
      "execution_count": 0,
      "outputs": [
        {
          "output_type": "display_data",
          "data": {
            "image/png": "[encoded data removed]"
          },
          "metadata": {
            "tags": []
          }
        }
      ]
    },
    {
      "cell_type": "code",
      "metadata": {
        "id": "4mLPTm4Omp9k",
        "colab_type": "code",
        "outputId": "b20ed4d5-b8ff-492e-9b01-289c5defeb56",
        "colab": {
          "base_uri": "https://localhost:8080/",
          "height": 283
        }
      },
      "source": [
        "# This is Python code\n",
        "# I first start by importing \"modules\" help me graph data and label plots.\n",
        "# Notice that the pound sign (#) or hashtag results in commenting-out a line of code\n",
        "# Lines that are commented out will not be run.\n",
        "#   It's good for notes and comments.\n",
        "\n",
        "import matplotlib\n",
        "import matplotlib.pyplot as plt\n",
        "import numpy as np\n",
        "\n",
        "# Now we have to define (def) a function (named geo_pop) that will simulate population growth\n",
        "# Note that we allow the function to take on 3 arguments (inputs):\n",
        "#   rate, pop_initial, and years.\n",
        "# \n",
        "\n",
        "def geo_pop(rate,pop_initial,years):\n",
        "    size = pop_initial\n",
        "\n",
        "    # time t\n",
        "    tt = []\n",
        "\n",
        "    #population size \n",
        "    pS = []\n",
        "    \n",
        "    currentyear=1\n",
        "    \n",
        "    while currentyear <= years:\n",
        "        \n",
        "        size += rate*size\n",
        "        \n",
        "        pS.append(size)\n",
        "        tt.append(currentyear)     \n",
        "    \n",
        "        currentyear += 1\n",
        "    return tt,pS\n",
        "\n",
        "r = -0.1\n",
        "while r <= .5:\n",
        "    tt,pS = geo_pop(r,100,20)\n",
        "    plt.plot(tt, pS,label=\"r=\"+str(round(r,2)))\n",
        "    r += .2\n",
        "\n",
        "plt.ylabel('Population size (number of individuals)')\n",
        "plt.xlabel('Time (in years)')\n",
        "plt.xticks(np.arange(0, 21, 1))\n",
        "plt.ylim(0,1000)\n",
        "plt.legend()\n",
        "plt.show()"
      ],
      "execution_count": 0,
      "outputs": [
        {
          "output_type": "display_data",
          "data": {
            "image/png": "[encoded data removed]",
            "text/plain": [
              "<Figure size 432x288 with 1 Axes>"
            ]
          },
          "metadata": {
            "tags": []
          }
        }
      ]
    },
    {
      "cell_type": "markdown",
      "metadata": {
        "id": "OTeh4zTepZxi",
        "colab_type": "text"
      },
      "source": [
        "### Exercise\n",
        "\n",
        "1. Our equation for geometric growth is \n",
        "$$P_{t+1} =  P_{t} + r \\cdot P_{t}$$\n",
        "Notice that, in this form, we need to know $P_t$ to calculate $P_{t+1}$.\n",
        "But what if I want to know $P_{1000}$ and all the information I have is $r$ and $P_0$.\n",
        "Do I have to calculate every population value to get $P_{1000}$ or is there a shortcut?\n",
        "\n",
        "1. Notice that in the exponential graph I've provided that we start at time $t=1$. Why is that? Are you able to rewrite the code so that we start at time $t=0$?\n",
        "\n",
        "1. Do you think that an geometric model for population growth is useful? Why or why not? What are the benefits and limitations of the model?"
      ]
    },
    {
      "cell_type": "markdown",
      "metadata": {
        "id": "0KJOm68LpeSH",
        "colab_type": "text"
      },
      "source": [
        "#### Solutions\n",
        "\n",
        "Remember that there may be many solutions to a problem, especially a coding problem.\n",
        "Your code may be different but still be correct.\n",
        "The important thing is to determine if the logic behind your code makes sense, and whether or not you get the same answer."
      ]
    },
    {
      "cell_type": "markdown",
      "metadata": {
        "id": "JZV-W6tTsaRi",
        "colab_type": "text"
      },
      "source": [
        "##### Question 1\n",
        "\n",
        "\n",
        "\n"
      ]
    },
    {
      "cell_type": "markdown",
      "metadata": {
        "id": "RUZMIh7ovGhg",
        "colab_type": "text"
      },
      "source": [
        "Let's tackle this question by considering the population size at time $t=3$, $P_3$.\n",
        "\n",
        "$$P_3 = P_2 + r*P_2$$\n",
        "\n",
        "which is equal to:\n",
        "\n",
        "$$P_3 = P_2 \\cdot (1 + r)$$\n",
        "\n",
        "Also:\n",
        "\n",
        "$$P_2 = P_1 \\cdot (1 + r)$$\n",
        "\n",
        "$$P_1 = P_0 \\cdot (1 + r)$$\n",
        "\n",
        "So we an rewrite the first equation as:\n",
        "\n",
        "$$P_3 = P_1 \\cdot (1 + r) \\cdot (1 + r)$$\n",
        "$$P_3 = P_0 \\cdot (1 + r)  \\cdot (1 + r) \\cdot (1 + r)$$\n",
        "\n",
        "finally\n",
        "\n",
        "$$P_3 = P_0 \\cdot (1 + r)^3$$.\n",
        "\n",
        "This is an equation of the form\n",
        "\n",
        "$$y = c \\cdot x^n$$\n",
        "\n",
        "where $c$ is a constant.\n",
        "\n",
        "If we want to calculate the population size at time $t=n$ then the equation would be:\n",
        "\n",
        "$$P_n = P_0 \\cdot (1 + r)^n$$.\n"
      ]
    },
    {
      "cell_type": "markdown",
      "metadata": {
        "id": "LryV_KGavKSJ",
        "colab_type": "text"
      },
      "source": [
        "##### Question 2"
      ]
    },
    {
      "cell_type": "markdown",
      "metadata": {
        "id": "NQHyldc9vS-f",
        "colab_type": "text"
      },
      "source": [
        "**In R**\n",
        "\n",
        "We move the `df[currentyear, x]` statements ahead of the `size = size + rate*size` statement.\n",
        "This allows us to store the initial starting values before modifying them with the loop.\n",
        "\n",
        "**In python**\n",
        "\n",
        "Just like in R, we can simply move the `.append` arguments up within the `exp_pop` function and then set our starting current year to 0.\n",
        "Now the first thing that the function will do is set our starting population value as the first value within our list.\n",
        "We can now start at year = 0 and have everything make sense."
      ]
    },
    {
      "cell_type": "code",
      "metadata": {
        "id": "DJ2f8dq5c_LC",
        "colab_type": "code",
        "colab": {}
      },
      "source": [
        "%%R \n",
        "library(ggplot2)\n",
        "\n",
        "geo_pop = function(rate, pop_initial, years){\n",
        "    size = pop_initial\n",
        "    \n",
        "    df = data.frame(tt = as.numeric(),\n",
        "                   pS = as.numeric(),\n",
        "                   rate = as.numeric())\n",
        "    \n",
        "    currentyear = 1\n",
        "    \n",
        "    while (currentyear <= years){\n",
        "        \n",
        "        df[currentyear,1] = currentyear\n",
        "        df[currentyear,2] = size\n",
        "        df[currentyear,3] = rate\n",
        "        \n",
        "        size = size + rate*size        \n",
        "        \n",
        "        currentyear = currentyear + 1\n",
        "    }\n",
        "    return(df)\n",
        "}\n",
        "\n",
        "r = -0.1\n",
        "\n",
        "df1 = data.frame(tt = as.numeric(),\n",
        "               pS = as.numeric(),\n",
        "               rate = as.numeric())\n",
        "\n",
        "while (r <= 0.5){\n",
        "    df = geo_pop(r,100,20)\n",
        "    df1 = rbind(df1,df)\n",
        "    \n",
        "    r = r + 0.2\n",
        "}\n",
        "\n",
        "plot = ggplot(df1, aes(x = tt, y = pS, group = factor(rate), color = factor(rate)))\n",
        "plot = plot + geom_point()\n",
        "plot = plot + geom_line() +\n",
        "        coord_cartesian(ylim=c(0, 1000))\n",
        "plot"
      ],
      "execution_count": 0,
      "outputs": []
    },
    {
      "cell_type": "code",
      "metadata": {
        "id": "vNTfQi1dpZM3",
        "colab_type": "code",
        "colab": {}
      },
      "source": [
        "import matplotlib\n",
        "import matplotlib.pyplot as plt\n",
        "import numpy as np\n",
        "\n",
        "\n",
        "def exp_pop(rate,pop_initial,years):\n",
        "    size = pop_initial\n",
        "\n",
        "    # time t\n",
        "    tt = []\n",
        "\n",
        "    #population size \n",
        "    pS = []\n",
        "    \n",
        "    currentyear=0\n",
        "    \n",
        "    while currentyear <= years:\n",
        "        \n",
        "        pS.append(size)\n",
        "        tt.append(currentyear)\n",
        "        size += rate*size\n",
        "     \n",
        "      \n",
        "        currentyear += 1\n",
        "    return tt,pS\n",
        "\n",
        "r = -0.1\n",
        "while r <= .5:\n",
        "    tt,pS = exp_pop(r,100,20)\n",
        "    plt.plot(tt, pS,label=\"r=\"+str(round(r,2)))\n",
        "    r += .2\n",
        "\n",
        "plt.ylabel('Population size (number of individuals)')\n",
        "plt.xlabel('Time (in years)')\n",
        "plt.xticks(np.arange(0,21, 1.0))\n",
        "plt.ylim(0,1000)\n",
        "plt.legend()\n",
        "plt.show()"
      ],
      "execution_count": 0,
      "outputs": []
    },
    {
      "cell_type": "markdown",
      "metadata": {
        "id": "pHeKrnh3vCNj",
        "colab_type": "text"
      },
      "source": [
        "##### Question 3"
      ]
    },
    {
      "cell_type": "markdown",
      "metadata": {
        "id": "6plk9BAEznT2",
        "colab_type": "text"
      },
      "source": [
        "It could be useful.\n",
        "It really depends on whether the population seems to be well-described by an geometric model at the time of interest.\n",
        "Populations don't increase geometrically forever, though, and our current model doesn't account for that.\n",
        "In the next section we'll discuss one possible way of including a \"cap\" on population growth.\n",
        "\n",
        "Additionally, geometric growth occurs when members of a population all reproduce at the same time rather than continuously.\n",
        "Compare the lifecycle of a human to an annual summer plant.\n",
        "The plant population produces seed at the end of summer or in the fall each and every year.\n",
        "They don't produce seed in the winter or spring.\n",
        "Humans, on the other hand, can reproduce all year long.\n",
        "Geometric models are appropriate for the plant growth (discrete time) and not human growth (continuous time)."
      ]
    },
    {
      "cell_type": "markdown",
      "metadata": {
        "id": "YV0Q0Sapcl8K",
        "colab_type": "text"
      },
      "source": [
        "## Discrete Logistic growth\n",
        "\n",
        "Geometric growth is not a reasonable model when the population is contrained by resources.\n",
        "We have to introduce the concept of **carrying capacity ($K$)**.\n",
        "\n",
        "Essentially, an area with finite resources (which is every area) has a limit on the population that it can support.\n",
        "This limit is called the carrying capacity and is equal to the total number of individuals from a population that a specific area can support.\n",
        "We'll need to account for this in our model somehow.\n",
        "\n",
        "One way to do this is to include a new term $1-\\frac{P_t}{K}$.\n",
        "Our geometric equation becomes\n",
        "\n",
        "$$P_{t+1} =  P_{t} + r \\cdot P_{t} \\cdot (1-\\frac{P_t}{K})$$\n",
        "\n",
        "Think about this new term as a dynamic adjustment to $r$.\n",
        "When the population ($P_t$) is very small compared to the carrying capacity then\n",
        "$$1-\\frac{P_t}{K} \\approx 1-\\frac{0}{K} \\approx 1$$\n",
        "indicating no adjustment to $r$. \n",
        "$$r \\cdot P_t \\cdot 1 = r \\cdot P_t$$ \n",
        "\n",
        "However, as the population increases we apply larger and larger penalties to $r$.\n",
        "\n",
        "What if $P_t = \\frac{1}{2}K$?\n",
        "\n",
        "$$1-\\frac{P_t}{K} = 1-\\frac{1}{2} = \\frac{1}{2}$$\n",
        "$$r \\cdot P_t \\cdot \\frac{1}{2} = \\frac{1}{2}r \\cdot P_t$$\n",
        "\n",
        "What if $P_t = K$\n",
        "\n",
        "$$1-\\frac{K}{K} = 1-1 = 0$$\n",
        "$$r \\cdot P_t \\cdot 0 = 0\\cdot r \\cdot P_t = 0$$\n",
        "\n",
        "Again, we can do this in R and Python.\n",
        "We should be able to reuse most of our previous code, however, we'll need to add in an argument for carrying capacity.\n",
        "\n",
        "\n",
        "\n",
        "\n"
      ]
    },
    {
      "cell_type": "code",
      "metadata": {
        "id": "cQaoPmsy9RV0",
        "colab_type": "code",
        "colab": {}
      },
      "source": [
        "%%R \n",
        "library(ggplot2)\n",
        "\n",
        "geo_pop = function(rate, pop_initial, years, capacity){\n",
        "    size = pop_initial\n",
        "    \n",
        "    df = data.frame(tt = as.numeric(),\n",
        "                   pS = as.numeric(),\n",
        "                   rate = as.numeric())\n",
        "    \n",
        "    currentyear = 1\n",
        "    \n",
        "    while (currentyear <= years){\n",
        "        \n",
        "        df[currentyear,1] = currentyear\n",
        "        df[currentyear,2] = size\n",
        "        df[currentyear,3] = rate\n",
        "        \n",
        "        size = size + rate*size*(1-size/capacity)        \n",
        "        \n",
        "        currentyear = currentyear + 1\n",
        "    }\n",
        "    return(df)\n",
        "}\n",
        "\n",
        "r = -0.1\n",
        "\n",
        "df1 = data.frame(tt = as.numeric(),\n",
        "               pS = as.numeric(),\n",
        "               rate = as.numeric())\n",
        "\n",
        "while (r <= 0.5){\n",
        "    df = geo_pop(r,100,20, 1000)\n",
        "    df1 = rbind(df1,df)\n",
        "    \n",
        "    r = r + 0.2\n",
        "}\n",
        "\n",
        "plot = ggplot(df1, aes(x = tt, y = pS, group = factor(rate), color = factor(rate)))\n",
        "plot = plot + geom_point()\n",
        "plot = plot + geom_line() +\n",
        "        coord_cartesian(ylim=c(0, 1000))\n",
        "plot"
      ],
      "execution_count": 0,
      "outputs": []
    },
    {
      "cell_type": "code",
      "metadata": {
        "id": "5rIcf18Q0h-r",
        "colab_type": "code",
        "colab": {}
      },
      "source": [
        "import matplotlib\n",
        "import matplotlib.pyplot as plt\n",
        "import numpy as np\n",
        "\n",
        "\n",
        "def log_pop(rate,pop_initial,years,capacity):\n",
        "    size = pop_initial\n",
        "\n",
        "    # time t\n",
        "    tt = []\n",
        "\n",
        "    #population size \n",
        "    pS = []\n",
        "    \n",
        "    currentyear=0\n",
        "    \n",
        "    while currentyear <= years:\n",
        "        \n",
        "        pS.append(size)\n",
        "        tt.append(currentyear) \n",
        "        \n",
        "        size += rate*size*(1-size/capacity)         \n",
        "    \n",
        "        currentyear += 1\n",
        "    return tt,pS\n",
        "\n",
        "r = -0.1\n",
        "while r <= .5:\n",
        "    tt,pS = log_pop(r,100,20,1000)\n",
        "    plt.plot(tt, pS,label=\"r=\"+str(round(r,2)))\n",
        "    r += .2\n",
        "\n",
        "plt.ylabel('Population size (number of individuals)')\n",
        "plt.xlabel('Time (in years)')\n",
        "plt.legend()\n",
        "plt.xticks(np.arange(0,21, 1.0))\n",
        "plt.ylim(0,1000)\n",
        "plt.show()"
      ],
      "execution_count": 0,
      "outputs": []
    },
    {
      "cell_type": "markdown",
      "metadata": {
        "id": "b7_qHMbBiJLo",
        "colab_type": "text"
      },
      "source": [
        "### Modeling factors that affect $K$\n",
        "\n",
        "Carrying capacity is affected by resource availability.\n",
        "Resources are typically things like food or nutrients, water, light, and space.\n",
        "\n",
        "The carrying capacties for different species can be wildly different interms of which resources are the most important.\n",
        "That is to say there can be 'choke points' that limit a population.\n",
        "Every resource may be present in abundance, except for one.\n",
        "The population carrying capacity, and growth rate, would then be incredibly sensitive to changes in availability of that limiting resource.\n",
        "Modifying the availability of these limiting resources can have a profound effect on population growth and carrying capacity.\n",
        "There are generally dimishing returns when you increase any one resource, and our model would have to account for that.\n",
        "Diminishing returns simply means that the observed effect on the carrying capacity diminishes in size as we add \n",
        "\n",
        "For example, as humans we've been able to use technology to increase our carrying capacity substantially.\n",
        "Agricultural improvements such as pesticides, synthetic nitrogen, and crop genetics have increased the amount of food that we produce per unit area.\n",
        "Drought tolerant crops decrease the amount of water required for crops leaving more for us as drinking water.\n",
        "High-rise apartment buildings (or any high-density living areas) conserve space.\n",
        "\n",
        "In theory, if you had enough time and money, you could determine all the factors that affect the carrying capacity for a species and also determine to which factors the carrying capacity is most sensitive.\n",
        "\n",
        "Let's run through a simple example in R.\n",
        "We'll say that we're able to relate carrying capacity to nutrient and space availability using the following formula\n",
        "\n",
        "$$K \\approx \\frac{1000*nutrients*space}{nutrients \\; + \\; 3*space}$$\n",
        "\n",
        "The equation isn't something I pulled from a paper, it's just for an example.\n",
        "Notice that if we increase either nutrients or space we should increase the carrying capacity.\n",
        "However, you'll notice that the degree by which we raise $K$ is dependent on what our starting values are for nutrients and space.\n",
        "This is to say, the sensitivity of $K$ to either nutrients or space is dependent on the current values of nutrients and space.\n",
        "\n",
        "Let's take a look!"
      ]
    },
    {
      "cell_type": "markdown",
      "metadata": {
        "id": "gykQGl5kea9Y",
        "colab_type": "text"
      },
      "source": [
        "First we have to import and install an R package.\n"
      ]
    },
    {
      "cell_type": "code",
      "metadata": {
        "id": "ufPzkPihUbzQ",
        "colab_type": "code",
        "colab": {}
      },
      "source": [
        "# import rpy2.robjects.packages as rpackages\n",
        "# utils = rpackages.importr('utils')\n",
        "\n",
        "# utils.chooseCRANmirror(ind=1)\n",
        "\n",
        "# packnames = ('directlabels')\n",
        "# from rpy2.robjects.vectors import StrVector\n",
        "# utils.install_packages(StrVector(packnames))"
      ],
      "execution_count": 0,
      "outputs": []
    },
    {
      "cell_type": "code",
      "metadata": {
        "id": "H-1I5f_Db0Vr",
        "colab_type": "code",
        "colab": {}
      },
      "source": [
        "from rpy2.robjects.packages import importr\n",
        "utils = importr('utils')\n",
        "utils.install_packages('directlabels')"
      ],
      "execution_count": 0,
      "outputs": []
    },
    {
      "cell_type": "markdown",
      "metadata": {
        "id": "gN0zdTCVelkY",
        "colab_type": "text"
      },
      "source": [
        "Next, we'll simulate our data and make a **contour plot**."
      ]
    },
    {
      "cell_type": "code",
      "metadata": {
        "id": "QJ99escvG8PA",
        "colab_type": "code",
        "colab": {}
      },
      "source": [
        "%%R\n",
        "library(ggplot2)\n",
        "library(dplyr)\n",
        "library(tidyr)\n",
        "library(directlabels)\n",
        "\n",
        "df <- expand.grid(x=1:100, y=1:100)\n",
        "df$z <- 1000*(df$x*df$y)/(df$x+3*df$y)\n",
        "\n",
        "df1 = df%>%\n",
        "      filter(y %in% c(25,50,75,100))\n",
        "df1$y = as.factor(df1$y)\n",
        "  \n",
        "# K vs nutrients\n",
        "\n",
        "plot = ggplot(aes(x=x,y=z, group=y, colour=y),data=df1)+\n",
        "        labs(x = \"Nutrients\", y= \"K\", colour=\"Space\")\n",
        "plot = plot + geom_point()\n",
        "plot = plot + geom_line()\n",
        "plot"
      ],
      "execution_count": 0,
      "outputs": []
    },
    {
      "cell_type": "code",
      "metadata": {
        "id": "R9QRFGh2dsZI",
        "colab_type": "code",
        "colab": {}
      },
      "source": [
        "%%R\n",
        "\n",
        "df2 = df%>%\n",
        "      filter(x %in% c(25,50,75,100))\n",
        "df2$x = as.factor(df2$x)\n",
        "  \n",
        "# K vs nutrients\n",
        "\n",
        "plot = ggplot(aes(x=y,y=z, group=x, colour=x),data=df2)+\n",
        "        labs(x = \"Space\", y= \"K\", colour=\"Nutrients\")\n",
        "plot = plot + geom_point()\n",
        "plot = plot + geom_line()\n",
        "plot"
      ],
      "execution_count": 0,
      "outputs": []
    },
    {
      "cell_type": "code",
      "metadata": {
        "id": "o3iBsawshWVG",
        "colab_type": "code",
        "colab": {}
      },
      "source": [
        "%%R\n",
        "df3 = df%>%\n",
        "      filter(x==y)\n",
        "  \n",
        "plot = ggplot(aes(x=x,y=z),data=df3)+\n",
        "        labs(x = \"Space\", y= \"K\", colour=\"Nutrientss\")\n",
        "plot = plot + geom_point()\n",
        "plot = plot + geom_line()\n",
        "plot"
      ],
      "execution_count": 0,
      "outputs": []
    },
    {
      "cell_type": "code",
      "metadata": {
        "id": "AZF6P4hsdsOQ",
        "colab_type": "code",
        "colab": {}
      },
      "source": [
        "%%R\n",
        "# The contour plot\n",
        "\n",
        "p <- ggplot(aes(x=x, y=y, z=z), data = df) + \n",
        "     geom_raster(data=df, aes(fill=z), show.legend = TRUE) +\n",
        "     scale_fill_gradient(limits=range(df$z), high = 'orange', low = 'blue') + \n",
        "     geom_contour(aes(colour = ..level..)) +\n",
        "     scale_colour_gradient(guide = 'none') +\n",
        "     labs(x = \"Nutrients\", y= \"Space\", fill=\"K\")+\n",
        "     scale_y_continuous(breaks=seq(0,100,5))+\n",
        "     scale_x_continuous(breaks=seq(0,100,5))\n",
        "\n",
        "p = direct.label(p, list(\"far.from.others.borders\", \"calc.boxes\", \"enlarge.box\", \n",
        "      hjust = 1, vjust = 1, box.color = NA, fill = \"transparent\", \"draw.rects\"))\n",
        "p"
      ],
      "execution_count": 0,
      "outputs": []
    },
    {
      "cell_type": "code",
      "metadata": {
        "id": "mbYYuAqBvWmB",
        "colab_type": "code",
        "colab": {}
      },
      "source": [
        "from rpy2.robjects.packages import importr\n",
        "utils = importr('utils')\n",
        "utils.install_packages('plotly')"
      ],
      "execution_count": 0,
      "outputs": []
    },
    {
      "cell_type": "code",
      "metadata": {
        "id": "apkkBIfItCPX",
        "colab_type": "code",
        "colab": {}
      },
      "source": [
        "%%R\n",
        "library(plotly)\n",
        "# volcano is a numeric matrix that ships with R\n",
        "p <- plot_ly(z = ~volcano) %>% add_surface(\n",
        "  contours = list(\n",
        "    z = list(\n",
        "      show=TRUE,\n",
        "      usecolormap=TRUE,\n",
        "      highlightcolor=\"#ff0000\",\n",
        "      project=list(z=TRUE)\n",
        "      )\n",
        "    )\n",
        "  ) %>%\n",
        "  layout(\n",
        "    scene = list(\n",
        "      camera=list(\n",
        "        eye = list(x=1.87, y=0.88, z=-0.64)\n",
        "        )\n",
        "      )\n",
        "  )\n",
        "\n",
        "Sys.setenv(\"plotly_username\"=\"bca2\")\n",
        "Sys.setenv(\"plotly_api_key\"=\"cSN2HhSsINgqgrmT4iJL\")\n",
        "\n",
        "chart_link = api_create(p, filename=\"test-1\")\n",
        "chart_link"
      ],
      "execution_count": 0,
      "outputs": []
    },
    {
      "cell_type": "code",
      "metadata": {
        "id": "1KX7PeGMyR4Y",
        "colab_type": "code",
        "colab": {}
      },
      "source": [
        "def configure_plotly_browser_state():\n",
        "  import IPython\n",
        "  display(IPython.core.display.HTML('''\n",
        "        <script src=\"/static/components/requirejs/require.js\"></script>\n",
        "        <script>\n",
        "          requirejs.config({\n",
        "            paths: {\n",
        "              base: '/static/base',\n",
        "              plotly: 'https://cdn.plot.ly/plotly-1.5.1.min.js?noext',\n",
        "            },\n",
        "          });\n",
        "        </script>\n",
        "        '''))\n"
      ],
      "execution_count": 0,
      "outputs": []
    },
    {
      "cell_type": "code",
      "metadata": {
        "id": "LFgyjEcjySm0",
        "colab_type": "code",
        "colab": {}
      },
      "source": [
        "# Connecting to GDrive\n",
        "from google.colab import drive\n",
        "drive.mount('/content/gdrive')\n",
        "\n",
        "from plotly.offline import iplot, plot, download_plotlyjs, init_notebook_mode\n",
        "import plotly.graph_objs as go\n",
        "\n",
        "\n",
        "\n",
        "import plotly.plotly as py\n",
        "import plotly.graph_objs as go\n",
        "\n",
        "import pandas as pd\n",
        "\n",
        "# Read data from a csv\n",
        "z_data = pd.read_csv('https://raw.githubusercontent.com/plotly/datasets/master/api_docs/mt_bruno_elevation.csv')\n",
        "\n",
        "data = [\n",
        "    go.Surface(\n",
        "        z=z_data.as_matrix(),\n",
        "        contours=go.surface.Contours(\n",
        "            z=go.surface.contours.Z(\n",
        "              show=True,\n",
        "              usecolormap=True,\n",
        "              highlightcolor=\"#42f462\",\n",
        "              project=dict(z=True)\n",
        "            )\n",
        "        )\n",
        "    )\n",
        "]\n",
        "layout = go.Layout(\n",
        "    title='Mt Bruno Elevation',\n",
        "    autosize=False,\n",
        "    scene=dict(camera=dict(eye=dict(x=1.87, y=0.88, z=-0.64))),\n",
        "    width=500,\n",
        "    height=500,\n",
        "    margin=dict(\n",
        "        l=65,\n",
        "        r=50,\n",
        "        b=65,\n",
        "        t=90\n",
        "    )\n",
        ")\n",
        "fig = go.Figure(data=data, layout=layout)\n",
        "\n",
        "# this saves it to Google Drive ...you can put it in any folder you like\n",
        "plot(fig, filename=\"/content/drive/test.html\", auto_open=False)\n",
        "\n",
        "# this saves it within the notebook folder locallhy\n",
        "plot(fig, filename=\"/content/drive/test.html\", auto_open=False)"
      ],
      "execution_count": 0,
      "outputs": []
    },
    {
      "cell_type": "markdown",
      "metadata": {
        "id": "JobrjB6kfK6U",
        "colab_type": "text"
      },
      "source": [
        "### How to read a contour plot\n",
        "\n",
        "Here we represent 3 variables (nutrients, space, carrying capacity ($K$)).\n",
        "\n",
        "You may have never seen a contour plot before, and that's fine.\n",
        "Contour plots are the best way (in my opinion) to represent 3D information in a 2D format.\n",
        "Imagine that you're using a paper map.\n",
        "A paper map is a 2D object that can nicely represent distances on the North-South axis as well as the West-East axis.\n",
        "But what if you wanted a little more information?\n",
        "Something like the elevation of a point on the map?\n",
        "These maps exist and are called \"Topographical maps\", and are equivalent to contour plots.\n",
        "\n",
        "Notice the curved lines on our graph.\n",
        "Those lines are associated with a value for our third variable.\n",
        "For a topographical map that value would be elevation.\n",
        "For our graph, that value is the carrying capacity.\n",
        "\n",
        "For our graph, as you increase nutrients **_and_** space we increase the carrying capacity substantially.\n",
        "However, notice that there are locations on the graph where carrying capacity is only sensitive to one variable or the other.\n",
        "\n",
        "For example, what if our nutrients value is equal to 80 and the space value is equal to 15.\n",
        "What would increase the carrying capacity more: increasing nutrients by 20 or space by 20?\n"
      ]
    },
    {
      "cell_type": "markdown",
      "metadata": {
        "id": "l2o5NOYn-2yX",
        "colab_type": "text"
      },
      "source": [
        "### Exercises"
      ]
    },
    {
      "cell_type": "markdown",
      "metadata": {
        "id": "6skNwe9W-8Bt",
        "colab_type": "text"
      },
      "source": [
        "#### Solutions"
      ]
    },
    {
      "cell_type": "markdown",
      "metadata": {
        "id": "A--Uu8Dq--Cu",
        "colab_type": "text"
      },
      "source": [
        "##### Question 1"
      ]
    },
    {
      "cell_type": "markdown",
      "metadata": {
        "id": "tMPceE692nfs",
        "colab_type": "text"
      },
      "source": [
        "### Exponential and logistic growth\n",
        "\n",
        "- Requires some background in calculus?\n",
        "- Will they have this?"
      ]
    },
    {
      "cell_type": "markdown",
      "metadata": {
        "id": "OtJahpCtPPGq",
        "colab_type": "text"
      },
      "source": [
        "## Calculating $r$ (or $\\lambda$) (parameterizing the equation from data)\n",
        "\n",
        "The modern way of parameterizing a population growth equation from data would be to run a non-linear regression.\n",
        "\n",
        "However, since we don't have that skill yet, we'll have to rely on other tactics for now.\n",
        "\n",
        "Regardless of which model we use (exponential or logistic), we'll have to generate a reasonable estimate of the population growth rate $r$.\n",
        "Also, if we decide to use the logistic model then we'll have to determine an estimate of the carrying capacity."
      ]
    },
    {
      "cell_type": "markdown",
      "metadata": {
        "id": "xxauqJsCYQgo",
        "colab_type": "text"
      },
      "source": [
        "# Population demographics: Case Study using simple statistics\n",
        "\n",
        "The Illinois Department of Natural resources has enlisted this group to help analyze data regarding alien and native plants within Illinois. \n",
        "There are two main concerns: First, you must uphold a directive to protect the environment from invasive species.\n",
        "Second, you must be able to identify and protect any native plants that may be dying off.\n",
        "\n",
        "Invasive species are defined here as alien plants with a population growth rate significantly greater than 1. \n",
        "These species out-compete native species and tend to lower the biodiversity of regions.\n",
        "The population growth rate is the average rate at which a population increases in size from year to year.\n",
        "It is analogous to financial gains year to year and is often abbreviated by the Greek letter lambda in the literature.\n",
        "\n",
        "A population growth rate is analogous to financial growth and should be treated in the same way (it's just an annual growth rate).\n",
        "If your financial investment has a 9% gain from one year to the next, then your rate of financial growth would be 1.09.\n",
        "\n",
        "$$Money_{year 1}\\cdot 1.09 = Money_{year 2}$$\n",
        "\n",
        "If your financial investment has an 11% loss from one year to the next then your financial growth for that year would be 0.89.\n",
        "\n",
        "$$Money_{year 1}\\cdot 0.89 = Money_{year 2}$$\n",
        "\n",
        "Populations with a growth rate significantly greater than 1 are increasing, and therefore potentially weedy or invasive.\n",
        "Populations with a growth rate significantly less than 1 are decreasing, and therefore may require human intervention to save.\n",
        "For this problem, we're primarily concerned with identifying alien species with a population growth rate greater than 1, and native species with a population growth rate less than 1.d\n",
        "\n",
        "The data that have been collected consist of 3 datasets, each one tracking a different population statistic for 16 species found in the Champaign county. \n",
        "The first dataset is from the summer of 2018: 100 individuals from each species were marked at germination and tracked until they died or grew to maturity.\n",
        "If the individual died then a '0' was recorded.\n",
        "If the individual survived until maturity then a '1' was recorded.\n",
        "\n",
        "The second dataset records the fecundity of 100 plants per species. \n",
        "Fecundity refers to the number of seeds produced per mature plant.\n",
        "\n",
        "Finally, the last dataset tracks plant population size for all 16 species across 5 years (100 samples observed for each species). \n",
        "\n",
        "It would be a good idea to reduce each dataset considerably as part of the analysis (think pivot table or dplyr/tidyr).\n",
        "Hint: The final version of the population size dataset should have 5 new columns created (first 4, and then 1).\n",
        "\n",
        "Additionally, demographic data is very expensive to take. \n",
        "Your boss would like to reduce the amount of data you take by focussing on fecundity data and eschewing the survival data (fecundity data is a lot easier to take).\n",
        "Your full report should include an educated opinion on whether the fecundity data is sufficient to predict invasiveness\n",
        "Invasiveness is defined here as a combination of being both alien and having a population growth rate significantly higher than 1.\n",
        "Native species can also have population growth rates over 1, however, this is often not seen as of as big of a problem.\n",
        "\n",
        "---\n",
        "\n",
        "### Questions to consider\n",
        "\n",
        "1. How do survival, fecundity and growth rate differbetween families? Between alien/native? \n",
        "1. Are you able to determine if any of the species have significantly higher population growth rates than 1? What would $H_0$ and $H_A$ look like? Do any have a growth rate significantly less than 1?\n",
        "1. Graph as much as possible. Box plots, histograms, linear regression.\n"
      ]
    },
    {
      "cell_type": "code",
      "metadata": {
        "id": "VnSB_qB95Ol_",
        "colab_type": "code",
        "outputId": "72efaf98-1df1-4040-ed05-777fd1de6ecd",
        "colab": {
          "resources": {
            "http://localhost:8080/nbextensions/google.colab/files.js": {
              "data": "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",
              "ok": true,
              "headers": [
                [
                  "content-type",
                  "application/javascript"
                ]
              ],
              "status": 200,
              "status_text": ""
            }
          },
          "base_uri": "https://localhost:8080/",
          "height": 74
        }
      },
      "source": [
        "# import the demographic data\n",
        "\n",
        "from google.colab import files\n",
        "uploaded = files.upload()"
      ],
      "execution_count": 3,
      "outputs": [
        {
          "output_type": "display_data",
          "data": {
            "text/html": [
              "\n",
              "     <input type=\"file\" id=\"files-58741351-cf54-4ac6-9920-8e000eff2445\" name=\"files[]\" multiple disabled />\n",
              "     <output id=\"result-58741351-cf54-4ac6-9920-8e000eff2445\">\n",
              "      Upload widget is only available when the cell has been executed in the\n",
              "      current browser session. Please rerun this cell to enable.\n",
              "      </output>\n",
              "      <script src=\"/nbextensions/google.colab/files.js\"></script> "
            ],
            "text/plain": [
              "<IPython.core.display.HTML object>"
            ]
          },
          "metadata": {
            "tags": []
          }
        },
        {
          "output_type": "stream",
          "text": [
            "Saving fec_sp.csv to fec_sp.csv\n"
          ],
          "name": "stdout"
        }
      ]
    },
    {
      "cell_type": "code",
      "metadata": {
        "id": "7xh_wJuU5Tij",
        "colab_type": "code",
        "outputId": "dd6a29b6-2040-4c97-c002-8aad3ec90f83",
        "colab": {
          "resources": {
            "http://localhost:8080/nbextensions/google.colab/files.js": {
              "data": "Ly8gQ29weXJpZ2h0IDIwMTcgR29vZ2xlIExMQwovLwovLyBMaWNlbnNlZCB1bmRlciB0aGUgQXBhY2hlIExpY2Vuc2UsIFZlcnNpb24gMi4wICh0aGUgIkxpY2Vuc2UiKTsKLy8geW91IG1heSBub3QgdXNlIHRoaXMgZmlsZSBleGNlcHQgaW4gY29tcGxpYW5jZSB3aXRoIHRoZSBMaWNlbnNlLgovLyBZb3UgbWF5IG9idGFpbiBhIGNvcHkgb2YgdGhlIExpY2Vuc2UgYXQKLy8KLy8gICAgICBodHRwOi8vd3d3LmFwYWNoZS5vcmcvbGljZW5zZXMvTElDRU5TRS0yLjAKLy8KLy8gVW5sZXNzIHJlcXVpcmVkIGJ5IGFwcGxpY2FibGUgbGF3IG9yIGFncmVlZCB0byBpbiB3cml0aW5nLCBzb2Z0d2FyZQovLyBkaXN0cmlidXRlZCB1bmRlciB0aGUgTGljZW5zZSBpcyBkaXN0cmlidXRlZCBvbiBhbiAiQVMgSVMiIEJBU0lTLAovLyBXSVRIT1VUIFdBUlJBTlRJRVMgT1IgQ09ORElUSU9OUyBPRiBBTlkgS0lORCwgZWl0aGVyIGV4cHJlc3Mgb3IgaW1wbGllZC4KLy8gU2VlIHRoZSBMaWNlbnNlIGZvciB0aGUgc3BlY2lmaWMgbGFuZ3VhZ2UgZ292ZXJuaW5nIHBlcm1pc3Npb25zIGFuZAovLyBsaW1pdGF0aW9ucyB1bmRlciB0aGUgTGljZW5zZS4KCi8qKgogKiBAZmlsZW92ZXJ2aWV3IEhlbHBlcnMgZm9yIGdvb2dsZS5jb2xhYiBQeXRob24gbW9kdWxlLgogKi8KKGZ1bmN0aW9uKHNjb3BlKSB7CmZ1bmN0aW9uIHNwYW4odGV4dCwgc3R5bGVBdHRyaWJ1dGVzID0ge30pIHsKICBjb25zdCBlbGVtZW50ID0gZG9jdW1lbnQuY3JlYXRlRWxlbWVudCgnc3BhbicpOwogIGVsZW1lbnQudGV4dENvbnRlbnQgPSB0ZXh0OwogIGZvciAoY29uc3Qga2V5IG9mIE9iamVjdC5rZXlzKHN0eWxlQXR0cmlidXRlcykpIHsKICAgIGVsZW1lbnQuc3R5bGVba2V5XSA9IHN0eWxlQXR0cmlidXRlc1trZXldOwogIH0KICByZXR1cm4gZWxlbWVudDsKfQoKLy8gTWF4IG51bWJlciBvZiBieXRlcyB3aGljaCB3aWxsIGJlIHVwbG9hZGVkIGF0IGEgdGltZS4KY29uc3QgTUFYX1BBWUxPQURfU0laRSA9IDEwMCAqIDEwMjQ7Ci8vIE1heCBhbW91bnQgb2YgdGltZSB0byBibG9jayB3YWl0aW5nIGZvciB0aGUgdXNlci4KY29uc3QgRklMRV9DSEFOR0VfVElNRU9VVF9NUyA9IDMwICogMTAwMDsKCmZ1bmN0aW9uIF91cGxvYWRGaWxlcyhpbnB1dElkLCBvdXRwdXRJZCkgewogIGNvbnN0IHN0ZXBzID0gdXBsb2FkRmlsZXNTdGVwKGlucHV0SWQsIG91dHB1dElkKTsKICBjb25zdCBvdXRwdXRFbGVtZW50ID0gZG9jdW1lbnQuZ2V0RWxlbWVudEJ5SWQob3V0cHV0SWQpOwogIC8vIENhY2hlIHN0ZXBzIG9uIHRoZSBvdXRwdXRFbGVtZW50IHRvIG1ha2UgaXQgYXZhaWxhYmxlIGZvciB0aGUgbmV4dCBjYWxsCiAgLy8gdG8gdXBsb2FkRmlsZXNDb250aW51ZSBmcm9tIFB5dGhvbi4KICBvdXRwdXRFbGVtZW50LnN0ZXBzID0gc3RlcHM7CgogIHJldHVybiBfdXBsb2FkRmlsZXNDb250aW51ZShvdXRwdXRJZCk7Cn0KCi8vIFRoaXMgaXMgcm91Z2hseSBhbiBhc3luYyBnZW5lcmF0b3IgKG5vdCBzdXBwb3J0ZWQgaW4gdGhlIGJyb3dzZXIgeWV0KSwKLy8gd2hlcmUgdGhlcmUgYXJlIG11bHRpcGxlIGFzeW5jaHJvbm91cyBzdGVwcyBhbmQgdGhlIFB5dGhvbiBzaWRlIGlzIGdvaW5nCi8vIHRvIHBvbGwgZm9yIGNvbXBsZXRpb24gb2YgZWFjaCBzdGVwLgovLyBUaGlzIHVzZXMgYSBQcm9taXNlIHRvIGJsb2NrIHRoZSBweXRob24gc2lkZSBvbiBjb21wbGV0aW9uIG9mIGVhY2ggc3RlcCwKLy8gdGhlbiBwYXNzZXMgdGhlIHJlc3VsdCBvZiB0aGUgcHJldmlvdXMgc3RlcCBhcyB0aGUgaW5wdXQgdG8gdGhlIG5leHQgc3RlcC4KZnVuY3Rpb24gX3VwbG9hZEZpbGVzQ29udGludWUob3V0cHV0SWQpIHsKICBjb25zdCBvdXRwdXRFbGVtZW50ID0gZG9jdW1lbnQuZ2V0RWxlbWVudEJ5SWQob3V0cHV0SWQpOwogIGNvbnN0IHN0ZXBzID0gb3V0cHV0RWxlbWVudC5zdGVwczsKCiAgY29uc3QgbmV4dCA9IHN0ZXBzLm5leHQob3V0cHV0RWxlbWVudC5sYXN0UHJvbWlzZVZhbHVlKTsKICByZXR1cm4gUHJvbWlzZS5yZXNvbHZlKG5leHQudmFsdWUucHJvbWlzZSkudGhlbigodmFsdWUpID0+IHsKICAgIC8vIENhY2hlIHRoZSBsYXN0IHByb21pc2UgdmFsdWUgdG8gbWFrZSBpdCBhdmFpbGFibGUgdG8gdGhlIG5leHQKICAgIC8vIHN0ZXAgb2YgdGhlIGdlbmVyYXRvci4KICAgIG91dHB1dEVsZW1lbnQubGFzdFByb21pc2VWYWx1ZSA9IHZhbHVlOwogICAgcmV0dXJuIG5leHQudmFsdWUucmVzcG9uc2U7CiAgfSk7Cn0KCi8qKgogKiBHZW5lcmF0b3IgZnVuY3Rpb24gd2hpY2ggaXMgY2FsbGVkIGJldHdlZW4gZWFjaCBhc3luYyBzdGVwIG9mIHRoZSB1cGxvYWQKICogcHJvY2Vzcy4KICogQHBhcmFtIHtzdHJpbmd9IGlucHV0SWQgRWxlbWVudCBJRCBvZiB0aGUgaW5wdXQgZmlsZSBwaWNrZXIgZWxlbWVudC4KICogQHBhcmFtIHtzdHJpbmd9IG91dHB1dElkIEVsZW1lbnQgSUQgb2YgdGhlIG91dHB1dCBkaXNwbGF5LgogKiBAcmV0dXJuIHshSXRlcmFibGU8IU9iamVjdD59IEl0ZXJhYmxlIG9mIG5leHQgc3RlcHMuCiAqLwpmdW5jdGlvbiogdXBsb2FkRmlsZXNTdGVwKGlucHV0SWQsIG91dHB1dElkKSB7CiAgY29uc3QgaW5wdXRFbGVtZW50ID0gZG9jdW1lbnQuZ2V0RWxlbWVudEJ5SWQoaW5wdXRJZCk7CiAgaW5wdXRFbGVtZW50LmRpc2FibGVkID0gZmFsc2U7CgogIGNvbnN0IG91dHB1dEVsZW1lbnQgPSBkb2N1bWVudC5nZXRFbGVtZW50QnlJZChvdXRwdXRJZCk7CiAgb3V0cHV0RWxlbWVudC5pbm5lckhUTUwgPSAnJzsKCiAgY29uc3QgcGlja2VkUHJvbWlzZSA9IG5ldyBQcm9taXNlKChyZXNvbHZlKSA9PiB7CiAgICBpbnB1dEVsZW1lbnQuYWRkRXZlbnRMaXN0ZW5lcignY2hhbmdlJywgKGUpID0+IHsKICAgICAgcmVzb2x2ZShlLnRhcmdldC5maWxlcyk7CiAgICB9KTsKICB9KTsKCiAgY29uc3QgY2FuY2VsID0gZG9jdW1lbnQuY3JlYXRlRWxlbWVudCgnYnV0dG9uJyk7CiAgaW5wdXRFbGVtZW50LnBhcmVudEVsZW1lbnQuYXBwZW5kQ2hpbGQoY2FuY2VsKTsKICBjYW5jZWwudGV4dENvbnRlbnQgPSAnQ2FuY2VsIHVwbG9hZCc7CiAgY29uc3QgY2FuY2VsUHJvbWlzZSA9IG5ldyBQcm9taXNlKChyZXNvbHZlKSA9PiB7CiAgICBjYW5jZWwub25jbGljayA9ICgpID0+IHsKICAgICAgcmVzb2x2ZShudWxsKTsKICAgIH07CiAgfSk7CgogIC8vIENhbmNlbCB1cGxvYWQgaWYgdXNlciBoYXNuJ3QgcGlja2VkIGFueXRoaW5nIGluIHRpbWVvdXQuCiAgY29uc3QgdGltZW91dFByb21pc2UgPSBuZXcgUHJvbWlzZSgocmVzb2x2ZSkgPT4gewogICAgc2V0VGltZW91dCgoKSA9PiB7CiAgICAgIHJlc29sdmUobnVsbCk7CiAgICB9LCBGSUxFX0NIQU5HRV9USU1FT1VUX01TKTsKICB9KTsKCiAgLy8gV2FpdCBmb3IgdGhlIHVzZXIgdG8gcGljayB0aGUgZmlsZXMuCiAgY29uc3QgZmlsZXMgPSB5aWVsZCB7CiAgICBwcm9taXNlOiBQcm9taXNlLnJhY2UoW3BpY2tlZFByb21pc2UsIHRpbWVvdXRQcm9taXNlLCBjYW5jZWxQcm9taXNlXSksCiAgICByZXNwb25zZTogewogICAgICBhY3Rpb246ICdzdGFydGluZycsCiAgICB9CiAgfTsKCiAgaWYgKCFmaWxlcykgewogICAgcmV0dXJuIHsKICAgICAgcmVzcG9uc2U6IHsKICAgICAgICBhY3Rpb246ICdjb21wbGV0ZScsCiAgICAgIH0KICAgIH07CiAgfQoKICBjYW5jZWwucmVtb3ZlKCk7CgogIC8vIERpc2FibGUgdGhlIGlucHV0IGVsZW1lbnQgc2luY2UgZnVydGhlciBwaWNrcyBhcmUgbm90IGFsbG93ZWQuCiAgaW5wdXRFbGVtZW50LmRpc2FibGVkID0gdHJ1ZTsKCiAgZm9yIChjb25zdCBmaWxlIG9mIGZpbGVzKSB7CiAgICBjb25zdCBsaSA9IGRvY3VtZW50LmNyZWF0ZUVsZW1lbnQoJ2xpJyk7CiAgICBsaS5hcHBlbmQoc3BhbihmaWxlLm5hbWUsIHtmb250V2VpZ2h0OiAnYm9sZCd9KSk7CiAgICBsaS5hcHBlbmQoc3BhbigKICAgICAgICBgKCR7ZmlsZS50eXBlIHx8ICduL2EnfSkgLSAke2ZpbGUuc2l6ZX0gYnl0ZXMsIGAgKwogICAgICAgIGBsYXN0IG1vZGlmaWVkOiAkewogICAgICAgICAgICBmaWxlLmxhc3RNb2RpZmllZERhdGUgPyBmaWxlLmxhc3RNb2RpZmllZERhdGUudG9Mb2NhbGVEYXRlU3RyaW5nKCkgOgogICAgICAgICAgICAgICAgICAgICAgICAgICAgICAgICAgICAnbi9hJ30gLSBgKSk7CiAgICBjb25zdCBwZXJjZW50ID0gc3BhbignMCUgZG9uZScpOwogICAgbGkuYXBwZW5kQ2hpbGQocGVyY2VudCk7CgogICAgb3V0cHV0RWxlbWVudC5hcHBlbmRDaGlsZChsaSk7CgogICAgY29uc3QgZmlsZURhdGFQcm9taXNlID0gbmV3IFByb21pc2UoKHJlc29sdmUpID0+IHsKICAgICAgY29uc3QgcmVhZGVyID0gbmV3IEZpbGVSZWFkZXIoKTsKICAgICAgcmVhZGVyLm9ubG9hZCA9IChlKSA9PiB7CiAgICAgICAgcmVzb2x2ZShlLnRhcmdldC5yZXN1bHQpOwogICAgICB9OwogICAgICByZWFkZXIucmVhZEFzQXJyYXlCdWZmZXIoZmlsZSk7CiAgICB9KTsKICAgIC8vIFdhaXQgZm9yIHRoZSBkYXRhIHRvIGJlIHJlYWR5LgogICAgbGV0IGZpbGVEYXRhID0geWllbGQgewogICAgICBwcm9taXNlOiBmaWxlRGF0YVByb21pc2UsCiAgICAgIHJlc3BvbnNlOiB7CiAgICAgICAgYWN0aW9uOiAnY29udGludWUnLAogICAgICB9CiAgICB9OwoKICAgIC8vIFVzZSBhIGNodW5rZWQgc2VuZGluZyB0byBhdm9pZCBtZXNzYWdlIHNpemUgbGltaXRzLiBTZWUgYi82MjExNTY2MC4KICAgIGxldCBwb3NpdGlvbiA9IDA7CiAgICB3aGlsZSAocG9zaXRpb24gPCBmaWxlRGF0YS5ieXRlTGVuZ3RoKSB7CiAgICAgIGNvbnN0IGxlbmd0aCA9IE1hdGgubWluKGZpbGVEYXRhLmJ5dGVMZW5ndGggLSBwb3NpdGlvbiwgTUFYX1BBWUxPQURfU0laRSk7CiAgICAgIGNvbnN0IGNodW5rID0gbmV3IFVpbnQ4QXJyYXkoZmlsZURhdGEsIHBvc2l0aW9uLCBsZW5ndGgpOwogICAgICBwb3NpdGlvbiArPSBsZW5ndGg7CgogICAgICBjb25zdCBiYXNlNjQgPSBidG9hKFN0cmluZy5mcm9tQ2hhckNvZGUuYXBwbHkobnVsbCwgY2h1bmspKTsKICAgICAgeWllbGQgewogICAgICAgIHJlc3BvbnNlOiB7CiAgICAgICAgICBhY3Rpb246ICdhcHBlbmQnLAogICAgICAgICAgZmlsZTogZmlsZS5uYW1lLAogICAgICAgICAgZGF0YTogYmFzZTY0LAogICAgICAgIH0sCiAgICAgIH07CiAgICAgIHBlcmNlbnQudGV4dENvbnRlbnQgPQogICAgICAgICAgYCR7TWF0aC5yb3VuZCgocG9zaXRpb24gLyBmaWxlRGF0YS5ieXRlTGVuZ3RoKSAqIDEwMCl9JSBkb25lYDsKICAgIH0KICB9CgogIC8vIEFsbCBkb25lLgogIHlpZWxkIHsKICAgIHJlc3BvbnNlOiB7CiAgICAgIGFjdGlvbjogJ2NvbXBsZXRlJywKICAgIH0KICB9Owp9CgpzY29wZS5nb29nbGUgPSBzY29wZS5nb29nbGUgfHwge307CnNjb3BlLmdvb2dsZS5jb2xhYiA9IHNjb3BlLmdvb2dsZS5jb2xhYiB8fCB7fTsKc2NvcGUuZ29vZ2xlLmNvbGFiLl9maWxlcyA9IHsKICBfdXBsb2FkRmlsZXMsCiAgX3VwbG9hZEZpbGVzQ29udGludWUsCn07Cn0pKHNlbGYpOwo=",
              "ok": true,
              "headers": [
                [
                  "content-type",
                  "application/javascript"
                ]
              ],
              "status": 200,
              "status_text": ""
            }
          },
          "base_uri": "https://localhost:8080/",
          "height": 40
        }
      },
      "source": [
        "from google.colab import files\n",
        "uploaded = files.upload()"
      ],
      "execution_count": 4,
      "outputs": [
        {
          "output_type": "display_data",
          "data": {
            "text/html": [
              "\n",
              "     <input type=\"file\" id=\"files-9896ba25-c942-4937-84f4-da85e4bfc200\" name=\"files[]\" multiple disabled />\n",
              "     <output id=\"result-9896ba25-c942-4937-84f4-da85e4bfc200\">\n",
              "      Upload widget is only available when the cell has been executed in the\n",
              "      current browser session. Please rerun this cell to enable.\n",
              "      </output>\n",
              "      <script src=\"/nbextensions/google.colab/files.js\"></script> "
            ],
            "text/plain": [
              "<IPython.core.display.HTML object>"
            ]
          },
          "metadata": {
            "tags": []
          }
        }
      ]
    },
    {
      "cell_type": "code",
      "metadata": {
        "id": "SJ0vNocc7bD4",
        "colab_type": "code",
        "outputId": "6f4d6c76-8ea9-4960-877c-0c9b654c5a27",
        "colab": {
          "resources": {
            "http://localhost:8080/nbextensions/google.colab/files.js": {
              "data": "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",
              "ok": true,
              "headers": [
                [
                  "content-type",
                  "application/javascript"
                ]
              ],
              "status": 200,
              "status_text": ""
            }
          },
          "base_uri": "https://localhost:8080/",
          "height": 74
        }
      },
      "source": [
        "from google.colab import files\n",
        "uploaded = files.upload()"
      ],
      "execution_count": 0,
      "outputs": [
        {
          "output_type": "display_data",
          "data": {
            "text/html": [
              "\n",
              "     <input type=\"file\" id=\"files-c0a6ee5d-7be6-41be-842b-ba3c784dbe20\" name=\"files[]\" multiple disabled />\n",
              "     <output id=\"result-c0a6ee5d-7be6-41be-842b-ba3c784dbe20\">\n",
              "      Upload widget is only available when the cell has been executed in the\n",
              "      current browser session. Please rerun this cell to enable.\n",
              "      </output>\n",
              "      <script src=\"/nbextensions/google.colab/files.js\"></script> "
            ],
            "text/plain": [
              "<IPython.core.display.HTML object>"
            ]
          },
          "metadata": {
            "tags": []
          }
        },
        {
          "output_type": "stream",
          "text": [
            "Saving final_reg.csv to final_reg.csv\n"
          ],
          "name": "stdout"
        }
      ]
    },
    {
      "cell_type": "code",
      "metadata": {
        "id": "BBJsjwtO5TSJ",
        "colab_type": "code",
        "outputId": "4573bffe-80c3-4414-ef29-a5f38018251c",
        "colab": {
          "resources": {
            "http://localhost:8080/nbextensions/google.colab/files.js": {
              "data": "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",
              "ok": true,
              "headers": [
                [
                  "content-type",
                  "application/javascript"
                ]
              ],
              "status": 200,
              "status_text": ""
            }
          },
          "base_uri": "https://localhost:8080/",
          "height": 74
        }
      },
      "source": [
        "from google.colab import files\n",
        "uploaded = files.upload()"
      ],
      "execution_count": 0,
      "outputs": [
        {
          "output_type": "display_data",
          "data": {
            "text/html": [
              "\n",
              "     <input type=\"file\" id=\"files-9e70bdda-6631-47d6-af5a-0f69fb9a7ee5\" name=\"files[]\" multiple disabled />\n",
              "     <output id=\"result-9e70bdda-6631-47d6-af5a-0f69fb9a7ee5\">\n",
              "      Upload widget is only available when the cell has been executed in the\n",
              "      current browser session. Please rerun this cell to enable.\n",
              "      </output>\n",
              "      <script src=\"/nbextensions/google.colab/files.js\"></script> "
            ],
            "text/plain": [
              "<IPython.core.display.HTML object>"
            ]
          },
          "metadata": {
            "tags": []
          }
        },
        {
          "output_type": "stream",
          "text": [
            "Saving pop2_growth.csv to pop2_growth.csv\n"
          ],
          "name": "stdout"
        }
      ]
    },
    {
      "cell_type": "code",
      "metadata": {
        "id": "KtgIw84-5qx_",
        "colab_type": "code",
        "colab": {}
      },
      "source": [
        "%%R\n",
        "\n",
        "df.final <- read.csv(\"final_reg.csv\")\n",
        "df.fec <- read.csv(\"fec_sp.csv\")\n",
        "df.surv <- read.csv(\"survival_sp.csv\")\n",
        "df.pop2 <- read.csv(\"pop2_growth.csv\")\n",
        "df.surv$species <- as.factor(df.surv$species)\n",
        "df.fec$species <- as.factor(df.fec$species)\n",
        "df.final$species <- as.factor(df.final$species)\n",
        "df.pop2$species <- as.factor(df.pop2$species)"
      ],
      "execution_count": 0,
      "outputs": []
    },
    {
      "cell_type": "markdown",
      "metadata": {
        "id": "m8avi-In7RKj",
        "colab_type": "text"
      },
      "source": [
        "## Survival"
      ]
    },
    {
      "cell_type": "code",
      "metadata": {
        "id": "zBMcFsYJ7Bvq",
        "colab_type": "code",
        "outputId": "dcc778fe-7cba-4007-c8a9-c37114619c23",
        "colab": {
          "base_uri": "https://localhost:8080/",
          "height": 497
        }
      },
      "source": [
        "%%R\n",
        "library(ggplot2)\n",
        "library(dplyr)\n",
        "library(tidyr)\n",
        "\n",
        "df.surv2 <- df.surv%>%\n",
        "  group_by(species,family ,native_stat)%>%\n",
        "  summarise(tot=sum(marked),surv=sum(survived))%>%\n",
        "  mutate(prop=surv/tot)\n",
        "df.surv2 <- as.data.frame(df.surv2)\n",
        "\n",
        "ggplot(data = df.surv2) +\n",
        "  aes(x = species, fill = family, weight = prop) +\n",
        "  geom_bar() +\n",
        "  theme_minimal() +\n",
        "  facet_grid(.~native_stat, scales = \"free\", space = \"free\")"
      ],
      "execution_count": 0,
      "outputs": [
        {
          "output_type": "display_data",
          "data": {
            "image/png": "[encoded data removed]"
          },
          "metadata": {
            "tags": []
          }
        }
      ]
    },
    {
      "cell_type": "markdown",
      "metadata": {
        "id": "YJEKyfXp7qst",
        "colab_type": "text"
      },
      "source": [
        "## Fecundity"
      ]
    },
    {
      "cell_type": "code",
      "metadata": {
        "id": "cDOWigia7k_l",
        "colab_type": "code",
        "outputId": "04c22c1f-df50-4d32-9135-62e1e54507cf",
        "colab": {
          "base_uri": "https://localhost:8080/",
          "height": 497
        }
      },
      "source": [
        "%%R\n",
        "library(ggplot2)\n",
        "library(dplyr)\n",
        "library(tidyr)\n",
        "\n",
        "ggplot(data = df.fec) +\n",
        "  aes(x = species, fill = family, weight = fecundity) +\n",
        "  geom_bar() +\n",
        "  theme_minimal() +\n",
        "  facet_grid(.~native_stat, scales = \"free\", space = \"free\")"
      ],
      "execution_count": 0,
      "outputs": [
        {
          "output_type": "display_data",
          "data": {
            "image/png": "[encoded data removed]"
          },
          "metadata": {
            "tags": []
          }
        }
      ]
    },
    {
      "cell_type": "markdown",
      "metadata": {
        "id": "Kh6mdqZM7xxE",
        "colab_type": "text"
      },
      "source": [
        "## Geometric population growth rate"
      ]
    },
    {
      "cell_type": "code",
      "metadata": {
        "id": "RBfkoOuv72EW",
        "colab_type": "code",
        "colab": {}
      },
      "source": [
        "%%R\n",
        "library(ggplot2)\n",
        "library(dplyr)\n",
        "library(tidyr)\n",
        "\n",
        "ggplot(data = df.pop2) +\n",
        "  aes(x = species, y = geomean, fill = native_stat) +\n",
        "  geom_boxplot() +\n",
        "  theme_minimal() +\n",
        "  facet_grid(.~family, scales = \"free\", space = \"free\")\n",
        "\n",
        "\n",
        "df.final1 <- df.final%>%\n",
        "  filter(family%in%c(\"brasicaceae\"))\n",
        "\n",
        "ggplot(data = df.final1) +\n",
        "  aes(x = prop, y = meanlam, color = native_stat)+\n",
        "  geom_point() +\n",
        "  theme_minimal() +\n",
        "  facet_wrap(vars(family))\n",
        "\n",
        "df.final2 <- df.final%>%\n",
        "  filter(family%in%c(\"poaceae\"))\n",
        "\n",
        "ggplot(data = df.final2) +\n",
        "  aes(x = prop, y = meanlam, color = native_stat)+\n",
        "  geom_point() +\n",
        "  theme_minimal() +\n",
        "  facet_wrap(vars(family))\n",
        "\n",
        "ggplot(data = df.final1) +\n",
        "  aes(x = meanfec, y = meanlam, color = native_stat) +\n",
        "  geom_point() +\n",
        "  theme_minimal() +\n",
        "  facet_wrap(vars(family))\n",
        "\n",
        "ggplot(data = df.final2) +\n",
        "  aes(x = meanfec, y = meanlam, color = native_stat) +\n",
        "  geom_point() +\n",
        "  theme_minimal() +\n",
        "  facet_wrap(vars(family))\n",
        "\n",
        "ggplot(data = df.final1) +\n",
        "  aes(x = prod, y = meanlam, color = native_stat) +\n",
        "  geom_point() +\n",
        "  theme_minimal() +\n",
        "  facet_wrap(vars(family))\n",
        "\n"
      ],
      "execution_count": 0,
      "outputs": []
    },
    {
      "cell_type": "code",
      "metadata": {
        "id": "aDvFhaZ57-OG",
        "colab_type": "code",
        "colab": {}
      },
      "source": [
        ""
      ],
      "execution_count": 0,
      "outputs": []
    },
    {
      "cell_type": "code",
      "metadata": {
        "id": "cYMD7heD7-EP",
        "colab_type": "code",
        "colab": {}
      },
      "source": [
        ""
      ],
      "execution_count": 0,
      "outputs": []
    },
    {
      "cell_type": "code",
      "metadata": {
        "id": "Ubft7ryP791n",
        "colab_type": "code",
        "colab": {}
      },
      "source": [
        "ggplot(data = df.final2) +\n",
        "  aes(x = prod, y = meanlam, color = native_stat) +\n",
        "  geom_point() +\n",
        "  theme_minimal() +\n",
        "  facet_wrap(vars(family))"
      ],
      "execution_count": 0,
      "outputs": []
    },
    {
      "cell_type": "markdown",
      "metadata": {
        "id": "MHEI_B4HJJze",
        "colab_type": "text"
      },
      "source": [
        "## Data visualization\n",
        "\n",
        "The first step in data analysis is data visualization.\n",
        "I would argue that proper data visualization is more important than any statistical work, and that most (if not all) of your conclusions should be clealy explained from your graphs.\n",
        "Statistics are included to make your conclusions more robust, but on their own the statistics are actually pretty weak.\n",
        "\n",
        "?Include the anscombe quartet to prove the point?"
      ]
    },
    {
      "cell_type": "markdown",
      "metadata": {
        "id": "lP4nMpIbLHzt",
        "colab_type": "text"
      },
      "source": [
        "# Evolution of Herbicide resistance\n",
        "\n",
        "**Strategy**\n",
        "\n",
        "1. What is herbicide resistance?\n",
        "\n",
        "    1. Heritable trait that allows a plant to survive the field rate of herbicide.\n",
        "    1. Can be either target site or metabolic.\n",
        "\n",
        "1. How does evolution to herbicide resistance occur?\n",
        "\n",
        "    1. Herbicide as a strong selection agent: plants generally don't survive without resistance.\n",
        "    1. Heritable traits, variation within the population, affects plant fitness, highly competitive environment.\n",
        "\n",
        "1. How can we model it?\n",
        "\n",
        "    1. Start simple: Exponential model with 3 variants (RR, Rr, rr).\n",
        "    1. Add carrying capacity.\n",
        "    1. Matrix model approach to calculate $\\lambda$\n",
        "        1. Herbicide affects seedling survival, nothing else.\n",
        "        1. \n"
      ]
    },
    {
      "cell_type": "markdown",
      "metadata": {
        "id": "IcrJf_AQSKnr",
        "colab_type": "text"
      },
      "source": [
        "# Appendix\n",
        "\n",
        "I will try to provide some extra worked examples for coding problems here.\n",
        "However, there are extremely good online resources for learning Python.\n",
        "Here are two to get you started.\n",
        "Note that you can set the video speed to 1.5x or 1.75x and still be able to follow along."
      ]
    },
    {
      "cell_type": "code",
      "metadata": {
        "id": "ZC7e6BQRAOpS",
        "colab_type": "code",
        "cellView": "both",
        "colab": {}
      },
      "source": [
        "#@title Learning python\n",
        "from IPython.display import YouTubeVideo\n",
        "YouTubeVideo('rfscVS0vtbw', width=600, height=400)"
      ],
      "execution_count": 0,
      "outputs": []
    },
    {
      "cell_type": "code",
      "metadata": {
        "id": "cpurUFH2A5Uk",
        "colab_type": "code",
        "cellView": "form",
        "colab": {}
      },
      "source": [
        "#@title Data analysis and Pandas tutorial\n",
        "from IPython.display import YouTubeVideo\n",
        "YouTubeVideo('Iqjy9UqKKuo', width=600, height=400)"
      ],
      "execution_count": 0,
      "outputs": []
    },
    {
      "cell_type": "markdown",
      "metadata": {
        "id": "jC5cOVk81rOP",
        "colab_type": "text"
      },
      "source": [
        "## What is a loop?\n",
        "\n",
        "Loops are common ways of repeating a task multiple times and they're used in many different software languages.\n",
        "They aren't always the most efficient way to perform a task, however they tend to be much more customizable and clear than pre-packaged functions.\n",
        "\n",
        "Let's start with a simple **for** loop that lists all the numbers between 1 and 5.\n",
        "\n"
      ]
    },
    {
      "cell_type": "code",
      "metadata": {
        "id": "oBdnHpus3cpO",
        "colab_type": "code",
        "cellView": "code",
        "colab": {}
      },
      "source": [
        "for x in range(1, 6):\n",
        "  print(x)"
      ],
      "execution_count": 0,
      "outputs": []
    },
    {
      "cell_type": "markdown",
      "metadata": {
        "id": "jST5YNXBekIL",
        "colab_type": "text"
      },
      "source": [
        "Notice that to list all the whole numbers between 1 and 5 we have to set the **range** bound as [1, 6].\n",
        "This is just how python works, other programs (such as R) do not have this quirk (it has many others instead).\n",
        "\n",
        "Another \"quirk\" of python is that it starts counting (and indexing) at zero rather than 1.\n",
        "\n",
        "Try it for yourself.\n",
        "\n",
        "Write a **for** loop that displays the whole numbers from 0 to 10.\n",
        "Write a **for** loop that displays the whole numbers from 13 to 22."
      ]
    },
    {
      "cell_type": "code",
      "metadata": {
        "id": "WKaHAXulBxPk",
        "colab_type": "code",
        "colab": {}
      },
      "source": [
        "for x in range(6):\n",
        "  print(x)"
      ],
      "execution_count": 0,
      "outputs": []
    },
    {
      "cell_type": "code",
      "metadata": {
        "id": "c7XRwQf82F9J",
        "colab_type": "code",
        "colab": {}
      },
      "source": [
        "for x in range(3,6):\n",
        "  print(x)"
      ],
      "execution_count": 0,
      "outputs": []
    },
    {
      "cell_type": "markdown",
      "metadata": {
        "id": "BD2hj47Kgkjs",
        "colab_type": "text"
      },
      "source": [
        "There are a few different loop types.\n",
        "We use a **while** loop for the population simulation.\n",
        "This type of loop will continue performing an action so long as a condition remains true.\n",
        "For the population model that condition was that the year number was less than some total year number (effectively the same as the **for** loop in that scenario).\n"
      ]
    },
    {
      "cell_type": "markdown",
      "metadata": {
        "id": "CAISrePA2Na7",
        "colab_type": "text"
      },
      "source": [
        "### Use case for loops: Examples\n",
        "#### Summation\n",
        "\n",
        "What if we wanted to add all the whole numbers between 1 and 10?\n",
        "That is, what if we wanted:\n",
        "\n",
        "$$\\sum_{i=1}^{10}i$$\n",
        "\n",
        "We could do this on a calculator, however, if the range of values was a lot larger this would take us some time.\n",
        "Instead, why not write a loop?"
      ]
    },
    {
      "cell_type": "code",
      "metadata": {
        "id": "HPb7ejLK2Zp8",
        "colab_type": "code",
        "colab": {}
      },
      "source": [
        "a=0\n",
        "for i in range(1,11):\n",
        "  a += i # Note that a += i is equal to a = a + i\n",
        "\n",
        "print(a)"
      ],
      "execution_count": 0,
      "outputs": []
    },
    {
      "cell_type": "markdown",
      "metadata": {
        "id": "b1yyfYrJXZft",
        "colab_type": "text"
      },
      "source": [
        "#### Multiplication\n",
        "\n",
        "We can, of course, do this for multiplication as well.\n",
        "Just be careful not to set our starting value to 0 as we did for the summation."
      ]
    },
    {
      "cell_type": "markdown",
      "metadata": {
        "id": "idx1eP6FYRH7",
        "colab_type": "text"
      },
      "source": [
        "$$\\prod_{i=1}^{5}i$$"
      ]
    },
    {
      "cell_type": "code",
      "metadata": {
        "id": "lokNfBrI2aLz",
        "colab_type": "code",
        "colab": {}
      },
      "source": [
        "a=1\n",
        "for i in range(1,6):\n",
        "  a=a*i\n",
        "print(a)"
      ],
      "execution_count": 0,
      "outputs": []
    },
    {
      "cell_type": "markdown",
      "metadata": {
        "id": "NaiVjtDjgEgg",
        "colab_type": "text"
      },
      "source": [
        "#### Simulation experiments\n",
        "\n",
        "We used a **while** loop to perform our population simulation.\n",
        "Practiacally, we wanted to track the population change year to year over several years using a simple exponential relationship.\n",
        "We could have done that manually but why?\n",
        "Do it with loops.\n",
        "\n",
        "Thie "
      ]
    },
    {
      "cell_type": "markdown",
      "metadata": {
        "id": "S63HjUhXYg0k",
        "colab_type": "text"
      },
      "source": [
        "#Random number generation\n",
        "\n"
      ]
    },
    {
      "cell_type": "code",
      "metadata": {
        "id": "quCr_utaYw8o",
        "colab_type": "code",
        "cellView": "both",
        "colab": {}
      },
      "source": [
        "#@title Default title text\n",
        "import pylab\n",
        "import random\n",
        "samples = 1000\n",
        "dice = []\n",
        "for i in range(samples):\n",
        "    total = random.randint(1,6) + random.randint(1,6)\n",
        "    dice.append(total)\n",
        "pylab.hist(dice, bins= pylab.arange(1.5,12.6,1.0))\n",
        "pylab.show()\n",
        "\n",
        "norm = []\n",
        "norm.append(random.normalvariate(50,1))\n",
        "print(norm)"
      ],
      "execution_count": 0,
      "outputs": []
    },
    {
      "cell_type": "code",
      "metadata": {
        "id": "Y1m5iJvQUdSD",
        "colab_type": "code",
        "colab": {}
      },
      "source": [
        "# https://pypi.python.org/pypi/pydot\n",
        "!apt-get -qq install -y graphviz && pip install -q pydot\n",
        "import pydot\n",
        "import graphviz"
      ],
      "execution_count": 0,
      "outputs": []
    },
    {
      "cell_type": "code",
      "metadata": {
        "id": "xClD9L2WGafH",
        "colab_type": "code",
        "colab": {}
      },
      "source": [
        "class Excelish:\n",
        "  def __init__(self):\n",
        "    self.data = {} #this is a dictionary. composed of key:value pairs\n",
        "    \n",
        "  def add_column_name(self,col_name):\n",
        "    self.data[col_name] = [] #initialize as blank list\n",
        "    \n",
        "  def add_data(self,col_name, data):\n",
        "    self.data[col_name] = data #add a list of data to a column name\n",
        "    \n",
        "  def get_output(self):\n",
        "    output = \"\"\n",
        "    #need to either input how many rows to print, or will have to figure out the max length\n",
        "    max_len = 0\n",
        "    for column in self.data.keys():\n",
        "      if max_len < len(self.data[column]):\n",
        "        max_len = len(self.data[column])\n",
        "      output = output + \"\\t\"+column #tab delimited values\n",
        "    #max len now tells us how many lines to print\n",
        "    for i in range(max_len):\n",
        "      output = output +\"\\n\" + str(i+1)\n",
        "      for column in self.data.keys():\n",
        "        try:\n",
        "          output = output + \"\\t\"+ str(self.data[column][i])\n",
        "        except IndexError:\n",
        "          #if columns have different length of lists then indexing out of range is a problem\n",
        "          output = output + \"\\t\" + \"n/a\"\n",
        "    return output #could either return it, or just print it. nicer to return it i think\n",
        "      \n",
        "excel = Excelish()\n",
        "excel.add_column_name(\"first_column\")\n",
        "excel.add_column_name(\"second_column\")\n",
        "excel.add_data(\"first_column\", [\"list\", \"of\", \"data\", \"probably\", \"numbers\",1,2, 3, \"etc\"])\n",
        "excel.add_data(\"second_column\", [1, 2, 3, 4, 5, \"a\"])\n",
        "print(excel.get_output())"
      ],
      "execution_count": 0,
      "outputs": []
    },
    {
      "cell_type": "markdown",
      "metadata": {
        "colab_type": "text",
        "id": "RLF9Ft503Vk2"
      },
      "source": [
        "# Population Demographic Analysis\n",
        "## CPSC 593\n",
        "---\n",
        "\n",
        "Learning points (language kept loose atm)\n",
        "\n",
        "1. What is population demographic analysis?\n",
        "1. Why does it matter? (Weed control, GMO, invasive species)\n",
        "1. Examples of population demographics using weeds or crops.\n",
        "1. Plant lifecycles\n",
        "1. Many little hammers of control, herbicide resistance\n",
        "\n",
        "\n",
        "1. Explain the lifecycle of an annual plant.\n",
        "1. Develop a \"for\" loop in python to mimic basic math operations.\n",
        "1. Identify control points in the life cycle of an annual weed.\n",
        "1. Exaplin components of demographic analysis.\n",
        "\n",
        "Additional learning points (possibly concurrent with above?)\n",
        "\n",
        "1. What is Python?\n",
        "1. What is a loop?\n",
        "1. Deterministic vs stochastic models\n",
        "\n",
        "## Structure\n",
        "\n",
        "1. Introduction: What elements of learning will we tackle, and how will we tackle them?\n",
        "1. Invasive/ephemeral plants in ecology and agriculture.\n",
        "\n",
        "$$\\frac{a}{b}$$\n",
        "\n",
        "$$\\sum{a}_{i}^{n}$$\n",
        "\n",
        "$$\\sum_{i}^{n}{a}$$\n"
      ]
    },
    {
      "cell_type": "code",
      "metadata": {
        "id": "-wyF8hUdH3Qc",
        "colab_type": "code",
        "cellView": "both",
        "outputId": "36fc457e-19f1-4732-9217-d2c87558e8ee",
        "colab": {
          "base_uri": "https://localhost:8080/",
          "height": 421
        }
      },
      "source": [
        "#@title Messing with python options\n",
        "#@markdown Here's an example of how we could link youtube into our lab instructions.\n",
        "#@markdown This is a drone video of the HSD at Adam's plots (real UIUC footage)\n",
        "#@markdown This could be a CPSC grad student explaining why something matters, and maybe even giving an example of the lab project in real life. Reading rainbow style, but age appropriate.\n",
        "from IPython.display import YouTubeVideo\n",
        "YouTubeVideo('wnI0a6cunzM', width=600, height=400)"
      ],
      "execution_count": 0,
      "outputs": [
        {
          "output_type": "execute_result",
          "data": {
            "text/html": [
              "\n",
              "        <iframe\n",
              "            width=\"600\"\n",
              "            height=\"400\"\n",
              "            src=\"https://www.youtube.com/embed/wnI0a6cunzM\"\n",
              "            frameborder=\"0\"\n",
              "            allowfullscreen\n",
              "        ></iframe>\n",
              "        "
            ],
            "text/plain": [
              "<IPython.lib.display.YouTubeVideo at 0x7f7171db4780>"
            ],
            "image/jpeg": "[encoded data removed]"
          },
          "metadata": {
            "tags": []
          },
          "execution_count": 1
        }
      ]
    },
    {
      "cell_type": "markdown",
      "metadata": {
        "id": "V6yPbxyFb33P",
        "colab_type": "text"
      },
      "source": [
        ""
      ]
    },
    {
      "cell_type": "markdown",
      "metadata": {
        "id": "zqIatCPR1gVH",
        "colab_type": "text"
      },
      "source": [
        "## What is population demographic analysis?"
      ]
    },
    {
      "cell_type": "markdown",
      "metadata": {
        "id": "FMrlNEnyWnta",
        "colab_type": "text"
      },
      "source": [
        "# Messing around with using R within python as well as importing data"
      ]
    },
    {
      "cell_type": "code",
      "metadata": {
        "id": "FBEA8Nm5vUrM",
        "colab_type": "code",
        "colab": {}
      },
      "source": [
        "%load_ext rpy2.ipython"
      ],
      "execution_count": 0,
      "outputs": []
    },
    {
      "cell_type": "code",
      "metadata": {
        "id": "StXYrJNNR7yn",
        "colab_type": "code",
        "colab": {}
      },
      "source": [
        "%%R # Using R from within Python! Nothing can stop me now!\n",
        "\n",
        "library(ggplot2)\n",
        "library(tidyr)\n",
        "library(dplyr)\n",
        "\n",
        "set.seed(90210)\n",
        "\n",
        "dat = data.frame(e = rnorm(20, 0, 5),\n",
        "                x = seq(1,20,1))\n",
        "b1 = 1\n",
        "b0 = 30\n",
        "\n",
        "dat1 = dat%>%\n",
        "      mutate(y = b0 + b1*x + e)\n",
        "\n",
        "plot = ggplot(dat1, aes(x = x, y = y))\n",
        "plot = plot + geom_point()\n",
        "plot"
      ],
      "execution_count": 0,
      "outputs": []
    },
    {
      "cell_type": "code",
      "metadata": {
        "id": "d1p4SIAoXGZl",
        "colab_type": "code",
        "colab": {}
      },
      "source": [
        "%%R\n",
        "fit = lm(data = dat1, y ~ x)\n",
        "summary(fit)"
      ],
      "execution_count": 0,
      "outputs": []
    },
    {
      "cell_type": "code",
      "metadata": {
        "id": "2kE0lqaOUFkv",
        "colab_type": "code",
        "colab": {}
      },
      "source": [
        "from google.colab import files\n",
        "uploaded = files.upload()"
      ],
      "execution_count": 0,
      "outputs": []
    },
    {
      "cell_type": "code",
      "metadata": {
        "id": "b5fJj0P5UtAe",
        "colab_type": "code",
        "colab": {}
      },
      "source": [
        "import pandas as pd\n",
        "import io\n",
        "df2 = pd.read_csv(io.BytesIO(uploaded['pop_growth.csv']))\n",
        "df2\n",
        "\n",
        "#df2.boxplot(by='family', \n",
        "#                       column=['secondyear'], \n",
        "#                       grid=False)"
      ],
      "execution_count": 0,
      "outputs": []
    },
    {
      "cell_type": "code",
      "metadata": {
        "id": "q2LC7KgZWSXf",
        "colab_type": "code",
        "cellView": "both",
        "colab": {}
      },
      "source": [
        "#@title\n",
        "%%R\n",
        "library(ggplot2)\n",
        "\n",
        "df1 = read.csv(\"pop_growth.csv\")\n",
        "plot = ggplot(df1, aes(y=secondyear,group=family))\n",
        "plot = plot + geom_boxplot()\n",
        "plot"
      ],
      "execution_count": 0,
      "outputs": []
    }
  ]
}