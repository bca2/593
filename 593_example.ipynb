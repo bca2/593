{
  "nbformat": 4,
  "nbformat_minor": 0,
  "metadata": {
    "colab": {
      "name": "593_example.ipynb",
      "version": "0.3.2",
      "provenance": [],
      "collapsed_sections": [],
      "toc_visible": true,
      "include_colab_link": true
    },
    "kernelspec": {
      "name": "python3",
      "display_name": "Python 3"
    }
  },
  "cells": [
    {
      "cell_type": "markdown",
      "metadata": {
        "id": "view-in-github",
        "colab_type": "text"
      },
      "source": [
        "<a href=\"https://colab.research.google.com/github/bca2/593/blob/master/593_example.ipynb\" target=\"_parent\"><img src=\"https://colab.research.google.com/assets/colab-badge.svg\" alt=\"Open In Colab\"/></a>"
      ]
    },
    {
      "cell_type": "markdown",
      "metadata": {
        "id": "r8b67m5qqVfp",
        "colab_type": "text"
      },
      "source": [
        "# Population growth and evolution\n",
        "\n",
        "The purpose of this document is to help Illinois high school science/math teachers comply with the Next Generation Science Standards by providing worked examples for the following learning requirements:\n",
        "\n",
        "**HS-LS2**\n",
        "\n",
        "1. Use mathematical and/or computational representations to support explanations of factors that affect carrying capacity of ecosystems at different scales. (HS-LS2-1)\n",
        "1. Evaluate claims, evidence, and reasoning that the complex interactions in ecosystems maintain relatively consistent numbers and types of organisms in stable conditions, but changing conditions may result in a new ecosystem. (HS-LS2-6)\n",
        "1. \tDesign, evaluate, and refine a solution for reducing the impacts of human activities on the environment and biodiversity. (HS-LS2-7)\n",
        "\n",
        "**HS-LS3**\n",
        "\n",
        "1. Apply concepts of statistics and probability to explain the variation and distribution of expressed traits in a population. (HS-LS3-3)\n",
        "\n",
        "\n",
        "**HS-LS4**\n",
        "\n",
        "1. Construct an explanation based on evidence that the process of evolution primarily results from four factors: (1) the potential for a species to increase in number, (2) the heritable genetic variation of individuals in a species due to mutation and sexual reproduction, (3) competition for limited resources, and (4) the proliferation of those organisms that are better able to survive and reproduce in the environment. (HS-LS4-2)\n",
        "1. Apply concepts of statistics and probability to support explanations that organisms with an advantageous heritable trait tend to increase in proportion to organisms lacking this trait. (HS-LS4-3)\n",
        "1. Construct an explanation based on evidence for how natural selection leads to adaptation of populations. (HS-LS4-4)\n",
        "1. Evaluate the evidence supporting claims that changes in environmental conditions may result in (1) increases in the number of individuals of some species, (2) the emergence of new species over time, and (3) the extinction of other species. (HS-LS4-5)\n",
        "1. Create or revise a simulation to test a solution to mitigate adverse impacts of human activity on biodiversity. (HS-LS4-6)\n",
        "\n",
        "Additionally, this entire lab project was developed with the chromebook in mind.\n",
        "Everything here should be completely accessible to someone using a chromebook with access to google drive and the internet."
      ]
    },
    {
      "cell_type": "markdown",
      "metadata": {
        "id": "Vfz7IqL-ZJs_",
        "colab_type": "text"
      },
      "source": [
        "# Python and R (and coding in general)\n",
        "\n",
        "&nbsp;\n",
        "Python is a programming language primarily suited for development while R is suited for data analysis.\n",
        "In my experience it's a mistake to choose one language and eschew others: learn as many as possible because  it's hard to know which will be the most useful to you in the future.\n",
        "Also, keep in mind that these are not the only languages.\n",
        "\n",
        "&nbsp;\n",
        "The nice thing about learning code is that there's a certain logical flow that seems to be consistent between languages.\n",
        "Named functions and syntax may differ, but the logic will be very similar in general.\n",
        "In this document I will try to provide examples of both python and R code.\n",
        "\n",
        "\n",
        "&nbsp;\n",
        "Also: my degree is not in computer science, and there may be better and more efficient ways of writing this code.\n",
        "That's fine.\n",
        "Your own code doesn't have to be perfect the first time around.\n",
        "It doesn't have to be perfect ever.\n",
        "Just make sure that it does what you want, and make improvements as you learn."
      ]
    },
    {
      "cell_type": "markdown",
      "metadata": {
        "id": "1uZsedYFmZyr",
        "colab_type": "text"
      },
      "source": [
        "## Enable R within Python\n",
        "\n",
        "The following code allows us to use the R language and R commands within Python.\n",
        "\n",
        "Any code that starts with \"%%R\" is using the R programming language.\n",
        "If that prompt is not present then the code is Python.\n"
      ]
    },
    {
      "cell_type": "code",
      "metadata": {
        "id": "ZDEKJysbRXdB",
        "colab_type": "code",
        "colab": {}
      },
      "source": [
        "# The following code lets us speak in the R language while working from within Python\n",
        "\n",
        "%load_ext rpy2.ipython\n",
        "\n",
        "# Using R inside python in this way tends to produce warnings\n",
        "# The warnings don't seem to have an effect on the desired output, so I'm just going to suppress the warnings.\n",
        "# You can go ahead and run the code with and without warnings by excluding/including the following code:\n",
        "\n",
        "import warnings\n",
        "from rpy2.rinterface import RRuntimeWarning\n",
        "warnings.filterwarnings(\"ignore\", category=RRuntimeWarning)\n",
        "\n",
        "# To comment out code, just use the pound sign (hashtag) \"#\"\n",
        "# Code that's been commented out will not be run, just like this comment I'm writing right now.\n",
        "# Comments help us in two major ways:\n",
        "#   1. You can easily leave instructions or clarifications in your code for other people or for future you.\n",
        "#   2. You can see how your code runs without certain lines of code without actually deleting your code.\n",
        "#       My advice: Try not to delete your code. You may change your mind later, and it's good to have it readily available."
      ],
      "execution_count": 0,
      "outputs": []
    },
    {
      "cell_type": "markdown",
      "metadata": {
        "id": "gwi6TTIocs-H",
        "colab_type": "text"
      },
      "source": [
        "## Markdown\n",
        "\n",
        "&nbsp;\n",
        "The text portions of this document are written in markdown.\n",
        "Markdown can fairly easily be converted to .doc, .pdf, and html using pandoc.\n",
        "I believe that Google Colab just converts everything to html on the fly, and that there are currently no .doc and .pdf options (as far as I know).\n",
        "However, these options do exist within programs like Rstudio (an integrated development environment (IDE) for R) and it's very useful for creating statistical reports.\n",
        "\n",
        "[See the guide for more details](https://www.markdownguide.org/basic-syntax/)"
      ]
    },
    {
      "cell_type": "markdown",
      "metadata": {
        "id": "KmGs5XWT4qkE",
        "colab_type": "text"
      },
      "source": [
        "# Population growth\n",
        "\n",
        "Before we start talking about carrying capacities and evolution, we should at least have a reasonable mathematical representation of how we can think about population growth.\n",
        "There are many different ways to model population growth, but we'll focus on just two of them here."
      ]
    },
    {
      "cell_type": "markdown",
      "metadata": {
        "id": "-wxRepe7pQl7",
        "colab_type": "text"
      },
      "source": [
        "## Geometric growth\n",
        "\n",
        "Geometric growth occurs when the population growth rate remains constant and there are very few or no environmental limitations.\n",
        "This type of growth is common during the early stages of population growth but generally does not continue for very long.\n",
        "Additionally, geometric growth is used to describe populations that reproduce in a pulsed, all at the same time.\n",
        "To make this more clear, think about how annual plants reproduce compared to humans.\n",
        "Members from an annual plant species germinate and reproduce at approximately the same times every year.\n",
        "By contrast, humans can continually reproduce all year.\n",
        "It turns out that these two types of populations are described by different (but analagous) models.\n",
        "\n",
        "Let $P_{t}$ represent the population size at time $t$, $P_{t+1}$ represent the population size at time $t+1$ and $r$ represent the *per capita* rate of increase.\n",
        "\n",
        "$$P_{t+1} =  P_{t} + r \\cdot P_{t}$$\n",
        "\n",
        "That is to say, the future population size is a function of the current population size as well as a rate of population growth.\n",
        "\n",
        "Let's take a look at how $r$ affects the relationship between $P_{t}$ and $P_{t+1}$.\n",
        "First, observe that if $r$ is equal to zero then:\n",
        "\n",
        "$$P_{t+1} =  P_{t}$$\n",
        "\n",
        "If there's no net growth then the population stays the same size.\n",
        "\n",
        "What about positive or negative values of $r$?\n",
        "Let's rearange our equation to answer this question. \n",
        "\n",
        "\n",
        "$$\\frac{P_{t+1}-P_{t}}{P_{t}} =   r  $$\n",
        "\n",
        "\n",
        "Notice that if $P_{t+1} <  P_{t}$ then $r$ will be negative.\n",
        "Another way to say that is if we have a negative population growth rate then our population will decline over time.\n",
        "\n",
        "Similarly, if $P_{t+1} >  P_{t}$ then $r$ will be positive.\n",
        "\n",
        "Texts may represent the equation like this:\n",
        "\n",
        "$$P_{t+1} =  P_{t} \\cdot (1 + r)$$\n",
        "$$P_{t+1} =  P_{t} \\cdot \\lambda$$\n",
        "\n",
        "Let's graph it!"
      ]
    },
    {
      "cell_type": "code",
      "metadata": {
        "id": "e7oKy5jhm75N",
        "colab_type": "code",
        "colab": {}
      },
      "source": [
        "%%R # This tells python that we're speaking in \"R\" rather than \"python\"\n",
        "# Notice that curly brackets in R take the place of indents in python\n",
        "# Also, notice that for these simulation exmaples there is no outside data.\n",
        "#  Everything you see comes from the functions and loops that we create here.\n",
        "\n",
        "library(ggplot2)\n",
        "\n",
        "geo_pop = function(rate, pop_initial, years){\n",
        "    size = pop_initial\n",
        "    \n",
        "    df = data.frame(tt = as.numeric(),\n",
        "                   pS = as.numeric(),\n",
        "                   rate = as.numeric())\n",
        "    \n",
        "    currentyear = 1\n",
        "    \n",
        "    while (currentyear <= years){\n",
        "        size = size + rate*size\n",
        "        \n",
        "        df[currentyear,1] = currentyear\n",
        "        df[currentyear,2] = size\n",
        "        df[currentyear,3] = rate\n",
        "        \n",
        "        currentyear = currentyear + 1\n",
        "    }\n",
        "    return(df)\n",
        "}\n",
        "\n",
        "r = -0.1\n",
        "\n",
        "df1 = data.frame(tt = as.numeric(),\n",
        "               pS = as.numeric(),\n",
        "               rate = as.numeric())\n",
        "\n",
        "while (r <= 0.5){\n",
        "    df = geo_pop(r,100,20)\n",
        "    df1 = rbind(df1,df)\n",
        "    \n",
        "    r = r + 0.2\n",
        "}\n",
        "\n",
        "plot = ggplot(df1, aes(x = tt, y = pS, group = factor(rate), color = factor(rate)))\n",
        "plot = plot + geom_point()\n",
        "plot = plot + geom_line() +\n",
        "        coord_cartesian(ylim=c(0, 1000))\n",
        "plot = plot + ggtitle(\"Geometric growth using different growth rates.\")\n",
        "plot = plot + xlab(\"Time (years)\")\n",
        "plot = plot + ylab(\"Population size (# individuals)\")\n",
        "plot = plot + labs(color = \"Growth rate (r)\")\n",
        "plot = plot + scale_x_continuous(breaks=seq(0,20,1))\n",
        "plot"
      ],
      "execution_count": 0,
      "outputs": []
    },
    {
      "cell_type": "code",
      "metadata": {
        "id": "4mLPTm4Omp9k",
        "colab_type": "code",
        "colab": {}
      },
      "source": [
        "# This is Python code\n",
        "# I first start by importing \"modules\" help me graph data and label plots.\n",
        "# Notice that the pound sign (#) or hashtag results in commenting-out a line of code\n",
        "# Lines that are commented out will not be run.\n",
        "#   It's good for notes and comments.\n",
        "\n",
        "import matplotlib\n",
        "import matplotlib.pyplot as plt\n",
        "import numpy as np\n",
        "\n",
        "# Now we have to define (def) a function (named geo_pop) that will simulate population growth\n",
        "# Note that we allow the function to take on 3 arguments (inputs):\n",
        "#   rate, pop_initial, and years.\n",
        "# \n",
        "\n",
        "def geo_pop(rate,pop_initial,years):\n",
        "    size = pop_initial\n",
        "\n",
        "    # time t\n",
        "    tt = []\n",
        "\n",
        "    #population size \n",
        "    pS = []\n",
        "    \n",
        "    currentyear=1\n",
        "    \n",
        "    while currentyear <= years:\n",
        "        \n",
        "        size += rate*size\n",
        "        \n",
        "        pS.append(size)\n",
        "        tt.append(currentyear)     \n",
        "    \n",
        "        currentyear += 1\n",
        "    return tt,pS\n",
        "\n",
        "r = -0.1\n",
        "while r <= .5:\n",
        "    tt,pS = geo_pop(r,100,20)\n",
        "    plt.plot(tt, pS,label=\"r=\"+str(round(r,2)))\n",
        "    r += .2\n",
        "\n",
        "plt.ylabel('Population size (number of individuals)')\n",
        "plt.xlabel('Time (in years)')\n",
        "plt.xticks(np.arange(0, 21, 1))\n",
        "plt.ylim(0,1000)\n",
        "plt.legend()\n",
        "plt.show()"
      ],
      "execution_count": 0,
      "outputs": []
    },
    {
      "cell_type": "markdown",
      "metadata": {
        "id": "OTeh4zTepZxi",
        "colab_type": "text"
      },
      "source": [
        "### Exercise\n",
        "\n",
        "1. Our equation for geometric growth is \n",
        "$$P_{t+1} =  P_{t} + r \\cdot P_{t}$$\n",
        "Notice that, in this form, we need to know $P_t$ to calculate $P_{t+1}$.\n",
        "But what if I want to know $P_{1000}$ and all the information I have is $r$ and $P_0$.\n",
        "Do I have to calculate every population value to get $P_{1000}$ or is there a shortcut?\n",
        "\n",
        "1. Notice that in the exponential graph I've provided that we start at time $t=1$. Why is that? Are you able to rewrite the code so that we start at time $t=0$?\n",
        "\n",
        "1. Do you think that an geometric model for population growth is useful? Why or why not? What are the benefits and limitations of the model?"
      ]
    },
    {
      "cell_type": "markdown",
      "metadata": {
        "id": "0KJOm68LpeSH",
        "colab_type": "text"
      },
      "source": [
        "#### Solutions\n",
        "\n",
        "Remember that there may be many solutions to a problem, especially a coding problem.\n",
        "Your code may be different but still be correct.\n",
        "The important thing is to determine if the logic behind your code makes sense, and whether or not you get the same answer."
      ]
    },
    {
      "cell_type": "markdown",
      "metadata": {
        "id": "JZV-W6tTsaRi",
        "colab_type": "text"
      },
      "source": [
        "##### Question 1\n",
        "\n",
        "\n",
        "\n"
      ]
    },
    {
      "cell_type": "markdown",
      "metadata": {
        "id": "RUZMIh7ovGhg",
        "colab_type": "text"
      },
      "source": [
        "Let's tackle this question by considering the population size at time $t=3$, $P_3$.\n",
        "\n",
        "$$P_3 = P_2 + r*P_2$$\n",
        "\n",
        "which is equal to:\n",
        "\n",
        "$$P_3 = P_2 \\cdot (1 + r)$$\n",
        "\n",
        "Also:\n",
        "\n",
        "$$P_2 = P_1 \\cdot (1 + r)$$\n",
        "\n",
        "$$P_1 = P_0 \\cdot (1 + r)$$\n",
        "\n",
        "So we an rewrite the first equation as:\n",
        "\n",
        "$$P_3 = P_1 \\cdot (1 + r) \\cdot (1 + r)$$\n",
        "$$P_3 = P_0 \\cdot (1 + r)  \\cdot (1 + r) \\cdot (1 + r)$$\n",
        "\n",
        "finally\n",
        "\n",
        "$$P_3 = P_0 \\cdot (1 + r)^3$$.\n",
        "\n",
        "This is an equation of the form\n",
        "\n",
        "$$y = c \\cdot x^n$$\n",
        "\n",
        "where $c$ is a constant.\n",
        "\n",
        "If we want to calculate the population size at time $t=n$ then the equation would be:\n",
        "\n",
        "$$P_n = P_0 \\cdot (1 + r)^n$$.\n"
      ]
    },
    {
      "cell_type": "markdown",
      "metadata": {
        "id": "LryV_KGavKSJ",
        "colab_type": "text"
      },
      "source": [
        "##### Question 2"
      ]
    },
    {
      "cell_type": "markdown",
      "metadata": {
        "id": "NQHyldc9vS-f",
        "colab_type": "text"
      },
      "source": [
        "**In R**\n",
        "\n",
        "We move the `df[currentyear, x]` statements ahead of the `size = size + rate*size` statement.\n",
        "This allows us to store the initial starting values before modifying them with the loop.\n",
        "\n",
        "**In python**\n",
        "\n",
        "Just like in R, we can simply move the `.append` arguments up within the `exp_pop` function and then set our starting current year to 0.\n",
        "Now the first thing that the function will do is set our starting population value as the first value within our list.\n",
        "We can now start at year = 0 and have everything make sense."
      ]
    },
    {
      "cell_type": "code",
      "metadata": {
        "id": "DJ2f8dq5c_LC",
        "colab_type": "code",
        "colab": {}
      },
      "source": [
        "%%R \n",
        "library(ggplot2)\n",
        "\n",
        "geo_pop = function(rate, pop_initial, years){\n",
        "    size = pop_initial\n",
        "    \n",
        "    df = data.frame(tt = as.numeric(),\n",
        "                   pS = as.numeric(),\n",
        "                   rate = as.numeric())\n",
        "    \n",
        "    currentyear = 1\n",
        "    \n",
        "    while (currentyear <= years){\n",
        "        \n",
        "        df[currentyear,1] = currentyear\n",
        "        df[currentyear,2] = size\n",
        "        df[currentyear,3] = rate\n",
        "        \n",
        "        size = size + rate*size        \n",
        "        \n",
        "        currentyear = currentyear + 1\n",
        "    }\n",
        "    return(df)\n",
        "}\n",
        "\n",
        "r = -0.1\n",
        "\n",
        "df1 = data.frame(tt = as.numeric(),\n",
        "               pS = as.numeric(),\n",
        "               rate = as.numeric())\n",
        "\n",
        "while (r <= 0.5){\n",
        "    df = geo_pop(r,100,20)\n",
        "    df1 = rbind(df1,df)\n",
        "    \n",
        "    r = r + 0.2\n",
        "}\n",
        "\n",
        "plot = ggplot(df1, aes(x = tt, y = pS, group = factor(rate), color = factor(rate)))\n",
        "plot = plot + geom_point()\n",
        "plot = plot + geom_line() +\n",
        "        coord_cartesian(ylim=c(0, 1000))\n",
        "plot = plot + ggtitle(\"Geometric growth using different growth rates.\")\n",
        "plot = plot + xlab(\"Time (years)\")\n",
        "plot = plot + ylab(\"Population size (# individuals)\")\n",
        "plot = plot + labs(color = \"Growth rate (r)\")\n",
        "plot = plot + scale_x_continuous(breaks=seq(0,20,1))\n",
        "plot"
      ],
      "execution_count": 0,
      "outputs": []
    },
    {
      "cell_type": "code",
      "metadata": {
        "id": "vNTfQi1dpZM3",
        "colab_type": "code",
        "colab": {}
      },
      "source": [
        "import matplotlib\n",
        "import matplotlib.pyplot as plt\n",
        "import numpy as np\n",
        "\n",
        "\n",
        "def exp_pop(rate,pop_initial,years):\n",
        "    size = pop_initial\n",
        "\n",
        "    # time t\n",
        "    tt = []\n",
        "\n",
        "    #population size \n",
        "    pS = []\n",
        "    \n",
        "    currentyear=0\n",
        "    \n",
        "    while currentyear <= years:\n",
        "        \n",
        "        pS.append(size)\n",
        "        tt.append(currentyear)\n",
        "        size += rate*size\n",
        "     \n",
        "      \n",
        "        currentyear += 1\n",
        "    return tt,pS\n",
        "\n",
        "r = -0.1\n",
        "while r <= .5:\n",
        "    tt,pS = exp_pop(r,100,20)\n",
        "    plt.plot(tt, pS,label=\"r=\"+str(round(r,2)))\n",
        "    r += .2\n",
        "\n",
        "plt.ylabel('Population size (number of individuals)')\n",
        "plt.xlabel('Time (in years)')\n",
        "plt.xticks(np.arange(0,21, 1.0))\n",
        "plt.ylim(0,1000)\n",
        "plt.legend()\n",
        "plt.show()"
      ],
      "execution_count": 0,
      "outputs": []
    },
    {
      "cell_type": "markdown",
      "metadata": {
        "id": "pHeKrnh3vCNj",
        "colab_type": "text"
      },
      "source": [
        "##### Question 3"
      ]
    },
    {
      "cell_type": "markdown",
      "metadata": {
        "id": "6plk9BAEznT2",
        "colab_type": "text"
      },
      "source": [
        "It could be useful.\n",
        "It really depends on whether the population seems to be well-described by an geometric model at the time of interest.\n",
        "Populations don't increase geometrically forever, though, and our current model doesn't account for that.\n",
        "In the next section we'll discuss one possible way of including a \"cap\" on population growth.\n",
        "\n",
        "Additionally, geometric growth occurs when members of a population all reproduce at the same time rather than continuously.\n",
        "Compare the lifecycle of a human to an annual summer plant.\n",
        "The plant population produces seed at the end of summer or in the fall each and every year.\n",
        "They don't produce seed in the winter or spring.\n",
        "Humans, on the other hand, can reproduce all year long.\n",
        "Geometric models are appropriate for the plant growth (discrete time) and not human growth (continuous time)."
      ]
    },
    {
      "cell_type": "markdown",
      "metadata": {
        "id": "YV0Q0Sapcl8K",
        "colab_type": "text"
      },
      "source": [
        "## Discrete Logistic growth\n",
        "\n",
        "Geometric growth is not a reasonable model when the population is contrained by resources.\n",
        "We have to introduce the concept of **carrying capacity ($K$)**.\n",
        "\n",
        "Essentially, an area with finite resources (which is every area) has a limit on the population that it can support.\n",
        "This limit is called the carrying capacity and is equal to the total number of individuals from a population that a specific area can support.\n",
        "We'll need to account for this in our model somehow.\n",
        "\n",
        "One way to do this is to include a new term $1-\\frac{P_t}{K}$.\n",
        "Our geometric equation becomes\n",
        "\n",
        "$$P_{t+1} =  P_{t} + r \\cdot P_{t} \\cdot (1-\\frac{P_t}{K})$$\n",
        "\n",
        "Think about this new term as a dynamic adjustment to $r$.\n",
        "When the population ($P_t$) is very small compared to the carrying capacity then\n",
        "$$1-\\frac{P_t}{K} \\approx 1-\\frac{0}{K} \\approx 1$$\n",
        "indicating no adjustment to $r$. \n",
        "$$r \\cdot P_t \\cdot 1 = r \\cdot P_t$$ \n",
        "\n",
        "However, as the population increases we apply larger and larger penalties to $r$.\n",
        "\n",
        "What if $P_t = \\frac{1}{2}K$?\n",
        "\n",
        "$$1-\\frac{P_t}{K} = 1-\\frac{1}{2} = \\frac{1}{2}$$\n",
        "$$r \\cdot P_t \\cdot \\frac{1}{2} = \\frac{1}{2}r \\cdot P_t$$\n",
        "\n",
        "What if $P_t = K$\n",
        "\n",
        "$$1-\\frac{K}{K} = 1-1 = 0$$\n",
        "$$r \\cdot P_t \\cdot 0 = 0\\cdot r \\cdot P_t = 0$$\n",
        "\n",
        "Again, we can do this in R and Python.\n",
        "We should be able to reuse most of our previous code, however, we'll need to add in an argument for carrying capacity.\n",
        "\n",
        "\n",
        "\n",
        "\n"
      ]
    },
    {
      "cell_type": "code",
      "metadata": {
        "id": "cQaoPmsy9RV0",
        "colab_type": "code",
        "colab": {}
      },
      "source": [
        "%%R \n",
        "library(ggplot2)\n",
        "\n",
        "geo_pop = function(rate, pop_initial, years, capacity){\n",
        "    size = pop_initial\n",
        "    \n",
        "    df = data.frame(tt = as.numeric(),\n",
        "                   pS = as.numeric(),\n",
        "                   rate = as.numeric())\n",
        "    \n",
        "    currentyear = 1\n",
        "    \n",
        "    while (currentyear <= years){\n",
        "        \n",
        "        df[currentyear,1] = currentyear\n",
        "        df[currentyear,2] = size\n",
        "        df[currentyear,3] = rate\n",
        "        \n",
        "        size = size + rate*size*(1-size/capacity)        \n",
        "        \n",
        "        currentyear = currentyear + 1\n",
        "    }\n",
        "    return(df)\n",
        "}\n",
        "\n",
        "r = -0.1\n",
        "\n",
        "df1 = data.frame(tt = as.numeric(),\n",
        "               pS = as.numeric(),\n",
        "               rate = as.numeric())\n",
        "\n",
        "while (r <= 0.5){\n",
        "    df = geo_pop(r,100,20, 1000)\n",
        "    df1 = rbind(df1,df)\n",
        "    \n",
        "    r = r + 0.2\n",
        "}\n",
        "\n",
        "plot = ggplot(df1, aes(x = tt, y = pS, group = factor(rate), color = factor(rate)))\n",
        "plot = plot + geom_point()\n",
        "plot = plot + geom_line() +\n",
        "        coord_cartesian(ylim=c(0, 1000))\n",
        "plot = plot + ggtitle(\"Logistic growth using different growth rates.\")\n",
        "plot = plot + xlab(\"Time (years)\")\n",
        "plot = plot + ylab(\"Population size (# individuals)\")\n",
        "plot = plot + labs(color = \"Growth rate (r)\")\n",
        "plot = plot + scale_x_continuous(breaks=seq(0,20,1))\n",
        "plot"
      ],
      "execution_count": 0,
      "outputs": []
    },
    {
      "cell_type": "code",
      "metadata": {
        "id": "5rIcf18Q0h-r",
        "colab_type": "code",
        "colab": {}
      },
      "source": [
        "import matplotlib\n",
        "import matplotlib.pyplot as plt\n",
        "import numpy as np\n",
        "\n",
        "\n",
        "def log_pop(rate,pop_initial,years,capacity):\n",
        "    size = pop_initial\n",
        "\n",
        "    # time t\n",
        "    tt = []\n",
        "\n",
        "    #population size \n",
        "    pS = []\n",
        "    \n",
        "    currentyear=0\n",
        "    \n",
        "    while currentyear <= years:\n",
        "        \n",
        "        pS.append(size)\n",
        "        tt.append(currentyear) \n",
        "        \n",
        "        size += rate*size*(1-size/capacity)         \n",
        "    \n",
        "        currentyear += 1\n",
        "    return tt,pS\n",
        "\n",
        "r = -0.1\n",
        "while r <= .5:\n",
        "    tt,pS = log_pop(r,100,20,1000)\n",
        "    plt.plot(tt, pS,label=\"r=\"+str(round(r,2)))\n",
        "    r += .2\n",
        "\n",
        "plt.ylabel('Population size (number of individuals)')\n",
        "plt.xlabel('Time (in years)')\n",
        "plt.legend()\n",
        "plt.xticks(np.arange(0,21, 1.0))\n",
        "plt.ylim(0,1000)\n",
        "plt.show()"
      ],
      "execution_count": 0,
      "outputs": []
    },
    {
      "cell_type": "markdown",
      "metadata": {
        "id": "IcrJf_AQSKnr",
        "colab_type": "text"
      },
      "source": [
        "# Appendix\n",
        "\n",
        "I will try to provide some extra worked examples for coding problems here.\n",
        "However, there are extremely good online resources for learning Python.\n",
        "Here are two to get you started.\n",
        "Note that you can set the video speed to 1.5x or 1.75x and still be able to follow along."
      ]
    },
    {
      "cell_type": "markdown",
      "metadata": {
        "id": "jC5cOVk81rOP",
        "colab_type": "text"
      },
      "source": [
        "## What is a loop?\n",
        "\n",
        "Loops are common ways of repeating a task multiple times and they're used in many different software languages.\n",
        "They aren't always the most efficient way to perform a task, however they tend to be much more customizable and clear than pre-packaged functions.\n",
        "\n",
        "Let's start with a simple **for** loop that lists all the numbers between 1 and 5.\n",
        "\n"
      ]
    },
    {
      "cell_type": "code",
      "metadata": {
        "id": "oBdnHpus3cpO",
        "colab_type": "code",
        "cellView": "code",
        "colab": {}
      },
      "source": [
        "for x in range(1, 6):\n",
        "  print(x)"
      ],
      "execution_count": 0,
      "outputs": []
    },
    {
      "cell_type": "markdown",
      "metadata": {
        "colab_type": "text",
        "id": "kHYYHKLhkOJ2"
      },
      "source": [
        "Notice that to list all the whole numbers between 1 and 5 we have to set the **range** bound as [1, 6].\n",
        "This is just how python works, other programs (such as R) do not have this quirk (it has many others instead).\n",
        "\n",
        "Another \"quirk\" of python is that it starts counting (and indexing) at zero rather than 1.\n",
        "\n",
        "Try it for yourself.\n",
        "\n",
        "Write a **for** loop that displays the whole numbers from 0 to 10.\n",
        "Write a **for** loop that displays the whole numbers from 13 to 22."
      ]
    },
    {
      "cell_type": "code",
      "metadata": {
        "id": "WKaHAXulBxPk",
        "colab_type": "code",
        "colab": {}
      },
      "source": [
        "for x in range(6):\n",
        "  print(x)"
      ],
      "execution_count": 0,
      "outputs": []
    },
    {
      "cell_type": "code",
      "metadata": {
        "id": "c7XRwQf82F9J",
        "colab_type": "code",
        "colab": {}
      },
      "source": [
        "for x in range(3,6):\n",
        "  print(x)"
      ],
      "execution_count": 0,
      "outputs": []
    },
    {
      "cell_type": "markdown",
      "metadata": {
        "id": "BD2hj47Kgkjs",
        "colab_type": "text"
      },
      "source": [
        "There are a few different loop types.\n",
        "We use a **while** loop for the population simulation.\n",
        "This type of loop will continue performing an action so long as a condition remains true.\n",
        "For the population model that condition was that the year number was less than some total year number (effectively the same as the **for** loop in that scenario).\n"
      ]
    },
    {
      "cell_type": "markdown",
      "metadata": {
        "id": "CAISrePA2Na7",
        "colab_type": "text"
      },
      "source": [
        "### Use case for loops: Examples\n",
        "#### Summation\n",
        "\n",
        "What if we wanted to add all the whole numbers between 1 and 10?\n",
        "That is, what if we wanted:\n",
        "\n",
        "$$\\sum_{i=1}^{10}i$$\n",
        "\n",
        "We could do this on a calculator, however, if the range of values was a lot larger this would take us some time.\n",
        "Instead, why not write a loop?"
      ]
    },
    {
      "cell_type": "code",
      "metadata": {
        "id": "HPb7ejLK2Zp8",
        "colab_type": "code",
        "colab": {}
      },
      "source": [
        "a=0\n",
        "for i in range(1,11):\n",
        "  a += i # Note that a += i is equal to a = a + i\n",
        "print(a)"
      ],
      "execution_count": 0,
      "outputs": []
    },
    {
      "cell_type": "markdown",
      "metadata": {
        "id": "b1yyfYrJXZft",
        "colab_type": "text"
      },
      "source": [
        "#### Multiplication\n",
        "\n",
        "We can, of course, do this for multiplication as well.\n",
        "Just be careful not to set our starting value to 0 as we did for the summation."
      ]
    },
    {
      "cell_type": "markdown",
      "metadata": {
        "id": "idx1eP6FYRH7",
        "colab_type": "text"
      },
      "source": [
        "$$\\prod_{i=1}^{5}i$$"
      ]
    },
    {
      "cell_type": "code",
      "metadata": {
        "id": "lokNfBrI2aLz",
        "colab_type": "code",
        "colab": {}
      },
      "source": [
        "a=1\n",
        "for i in range(1,6):\n",
        "  a=a*i\n",
        "print(a)"
      ],
      "execution_count": 0,
      "outputs": []
    },
    {
      "cell_type": "markdown",
      "metadata": {
        "id": "NaiVjtDjgEgg",
        "colab_type": "text"
      },
      "source": [
        "#### Simulation experiments\n",
        "\n",
        "We used a **while** loop to perform our population simulation.\n",
        "Practiacally, we wanted to track the population change year to year over several years using a simple exponential relationship.\n",
        "We could have done that manually but why?\n",
        "Do it with loops.\n",
        "\n",
        "Thie "
      ]
    },
    {
      "cell_type": "markdown",
      "metadata": {
        "id": "S63HjUhXYg0k",
        "colab_type": "text"
      },
      "source": [
        "#Random number generation\n",
        "\n"
      ]
    },
    {
      "cell_type": "code",
      "metadata": {
        "id": "quCr_utaYw8o",
        "colab_type": "code",
        "cellView": "both",
        "colab": {}
      },
      "source": [
        "#@title Default title text\n",
        "import pylab\n",
        "import random\n",
        "samples = 1000\n",
        "dice = []\n",
        "for i in range(samples):\n",
        "    total = random.randint(1,6) + random.randint(1,6)\n",
        "    dice.append(total)\n",
        "pylab.hist(dice, bins= pylab.arange(1.5,12.6,1.0))\n",
        "pylab.show()\n",
        "\n",
        "norm = []\n",
        "norm.append(random.normalvariate(50,1))\n",
        "print(norm)"
      ],
      "execution_count": 0,
      "outputs": []
    },
    {
      "cell_type": "markdown",
      "metadata": {
        "id": "UJQP5gdEmhCM",
        "colab_type": "text"
      },
      "source": [
        "## Importing and using data"
      ]
    },
    {
      "cell_type": "code",
      "metadata": {
        "id": "2kE0lqaOUFkv",
        "colab_type": "code",
        "colab": {}
      },
      "source": [
        "from google.colab import files\n",
        "uploaded = files.upload()"
      ],
      "execution_count": 0,
      "outputs": []
    },
    {
      "cell_type": "code",
      "metadata": {
        "id": "b5fJj0P5UtAe",
        "colab_type": "code",
        "colab": {}
      },
      "source": [
        "import pandas as pd\n",
        "import io\n",
        "df2 = pd.read_csv(io.BytesIO(uploaded['pop_growth.csv']))\n",
        "df2\n",
        "\n",
        "#df2.boxplot(by='family', \n",
        "#                       column=['secondyear'], \n",
        "#                       grid=False)"
      ],
      "execution_count": 0,
      "outputs": []
    },
    {
      "cell_type": "code",
      "metadata": {
        "id": "q2LC7KgZWSXf",
        "colab_type": "code",
        "cellView": "both",
        "colab": {}
      },
      "source": [
        "# #@title\n",
        "# %%R\n",
        "# library(ggplot2)\n",
        "\n",
        "# df1 = read.csv(\"pop_growth.csv\")\n",
        "# plot = ggplot(df1, aes(y=secondyear,group=family))\n",
        "# plot = plot + geom_boxplot()\n",
        "# plot"
      ],
      "execution_count": 0,
      "outputs": []
    }
  ]
}